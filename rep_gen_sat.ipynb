{
  "cells": [
    {
      "cell_type": "markdown",
      "metadata": {
        "id": "view-in-github",
        "colab_type": "text"
      },
      "source": [
        "<a href=\"https://colab.research.google.com/github/visha1Sagar/BRSR-Report-Generation/blob/main/rep_gen_sat.ipynb\" target=\"_parent\"><img src=\"https://colab.research.google.com/assets/colab-badge.svg\" alt=\"Open In Colab\"/></a>"
      ]
    },
    {
      "cell_type": "code",
      "execution_count": 1,
      "metadata": {
        "colab": {
          "base_uri": "https://localhost:8080/"
        },
        "collapsed": true,
        "id": "6h3jhPiO0ACx",
        "outputId": "d6431206-f118-4517-dfa4-14e8caa947b4"
      },
      "outputs": [
        {
          "output_type": "stream",
          "name": "stdout",
          "text": [
            "\u001b[?25l     \u001b[90m━━━━━━━━━━━━━━━━━━━━━━━━━━━━━━━━━━━━━━━━\u001b[0m \u001b[32m0.0/67.3 kB\u001b[0m \u001b[31m?\u001b[0m eta \u001b[36m-:--:--\u001b[0m\r\u001b[2K     \u001b[90m━━━━━━━━━━━━━━━━━━━━━━━━━━━━━━━━━━━━━━━━\u001b[0m \u001b[32m67.3/67.3 kB\u001b[0m \u001b[31m3.1 MB/s\u001b[0m eta \u001b[36m0:00:00\u001b[0m\n",
            "\u001b[?25h  Installing build dependencies ... \u001b[?25l\u001b[?25hdone\n",
            "  Getting requirements to build wheel ... \u001b[?25l\u001b[?25hdone\n",
            "  Preparing metadata (pyproject.toml) ... \u001b[?25l\u001b[?25hdone\n",
            "\u001b[2K   \u001b[90m━━━━━━━━━━━━━━━━━━━━━━━━━━━━━━━━━━━━━━━━\u001b[0m \u001b[32m1.0/1.0 MB\u001b[0m \u001b[31m16.6 MB/s\u001b[0m eta \u001b[36m0:00:00\u001b[0m\n",
            "\u001b[2K   \u001b[90m━━━━━━━━━━━━━━━━━━━━━━━━━━━━━━━━━━━━━━━━\u001b[0m \u001b[32m2.4/2.4 MB\u001b[0m \u001b[31m55.5 MB/s\u001b[0m eta \u001b[36m0:00:00\u001b[0m\n",
            "\u001b[2K   \u001b[90m━━━━━━━━━━━━━━━━━━━━━━━━━━━━━━━━━━━━━━━━\u001b[0m \u001b[32m57.1/57.1 MB\u001b[0m \u001b[31m13.8 MB/s\u001b[0m eta \u001b[36m0:00:00\u001b[0m\n",
            "\u001b[2K   \u001b[90m━━━━━━━━━━━━━━━━━━━━━━━━━━━━━━━━━━━━━━━━\u001b[0m \u001b[32m320.1/320.1 kB\u001b[0m \u001b[31m25.8 MB/s\u001b[0m eta \u001b[36m0:00:00\u001b[0m\n",
            "\u001b[2K   \u001b[90m━━━━━━━━━━━━━━━━━━━━━━━━━━━━━━━━━━━━━━━━\u001b[0m \u001b[32m50.6/50.6 kB\u001b[0m \u001b[31m4.3 MB/s\u001b[0m eta \u001b[36m0:00:00\u001b[0m\n",
            "\u001b[2K   \u001b[90m━━━━━━━━━━━━━━━━━━━━━━━━━━━━━━━━━━━━━━━━\u001b[0m \u001b[32m298.0/298.0 kB\u001b[0m \u001b[31m15.8 MB/s\u001b[0m eta \u001b[36m0:00:00\u001b[0m\n",
            "\u001b[2K   \u001b[90m━━━━━━━━━━━━━━━━━━━━━━━━━━━━━━━━━━━━━━━━\u001b[0m \u001b[32m209.0/209.0 kB\u001b[0m \u001b[31m12.0 MB/s\u001b[0m eta \u001b[36m0:00:00\u001b[0m\n",
            "\u001b[2K   \u001b[90m━━━━━━━━━━━━━━━━━━━━━━━━━━━━━━━━━━━━━━━━\u001b[0m \u001b[32m617.9/617.9 kB\u001b[0m \u001b[31m28.3 MB/s\u001b[0m eta \u001b[36m0:00:00\u001b[0m\n",
            "\u001b[2K   \u001b[90m━━━━━━━━━━━━━━━━━━━━━━━━━━━━━━━━━━━━━━━━\u001b[0m \u001b[32m2.4/2.4 MB\u001b[0m \u001b[31m32.6 MB/s\u001b[0m eta \u001b[36m0:00:00\u001b[0m\n",
            "\u001b[2K   \u001b[90m━━━━━━━━━━━━━━━━━━━━━━━━━━━━━━━━━━━━━━━━\u001b[0m \u001b[32m94.9/94.9 kB\u001b[0m \u001b[31m9.1 MB/s\u001b[0m eta \u001b[36m0:00:00\u001b[0m\n",
            "\u001b[2K   \u001b[90m━━━━━━━━━━━━━━━━━━━━━━━━━━━━━━━━━━━━━━━━\u001b[0m \u001b[32m409.5/409.5 kB\u001b[0m \u001b[31m32.5 MB/s\u001b[0m eta \u001b[36m0:00:00\u001b[0m\n",
            "\u001b[2K   \u001b[90m━━━━━━━━━━━━━━━━━━━━━━━━━━━━━━━━━━━━━━━━\u001b[0m \u001b[32m11.2/11.2 MB\u001b[0m \u001b[31m101.7 MB/s\u001b[0m eta \u001b[36m0:00:00\u001b[0m\n",
            "\u001b[2K   \u001b[90m━━━━━━━━━━━━━━━━━━━━━━━━━━━━━━━━━━━━━━━━\u001b[0m \u001b[32m3.1/3.1 MB\u001b[0m \u001b[31m57.1 MB/s\u001b[0m eta \u001b[36m0:00:00\u001b[0m\n",
            "\u001b[2K   \u001b[90m━━━━━━━━━━━━━━━━━━━━━━━━━━━━━━━━━━━━━━━━\u001b[0m \u001b[32m73.2/73.2 kB\u001b[0m \u001b[31m7.0 MB/s\u001b[0m eta \u001b[36m0:00:00\u001b[0m\n",
            "\u001b[2K   \u001b[90m━━━━━━━━━━━━━━━━━━━━━━━━━━━━━━━━━━━━━━━━\u001b[0m \u001b[32m1.2/1.2 MB\u001b[0m \u001b[31m21.0 MB/s\u001b[0m eta \u001b[36m0:00:00\u001b[0m\n",
            "\u001b[2K   \u001b[90m━━━━━━━━━━━━━━━━━━━━━━━━━━━━━━━━━━━━━━━━\u001b[0m \u001b[32m63.8/63.8 kB\u001b[0m \u001b[31m5.0 MB/s\u001b[0m eta \u001b[36m0:00:00\u001b[0m\n",
            "\u001b[2K   \u001b[90m━━━━━━━━━━━━━━━━━━━━━━━━━━━━━━━━━━━━━━━━\u001b[0m \u001b[32m278.6/278.6 kB\u001b[0m \u001b[31m17.6 MB/s\u001b[0m eta \u001b[36m0:00:00\u001b[0m\n",
            "\u001b[2K   \u001b[90m━━━━━━━━━━━━━━━━━━━━━━━━━━━━━━━━━━━━━━━━\u001b[0m \u001b[32m1.9/1.9 MB\u001b[0m \u001b[31m55.1 MB/s\u001b[0m eta \u001b[36m0:00:00\u001b[0m\n",
            "\u001b[2K   \u001b[90m━━━━━━━━━━━━━━━━━━━━━━━━━━━━━━━━━━━━━━━━\u001b[0m \u001b[32m49.5/49.5 kB\u001b[0m \u001b[31m4.4 MB/s\u001b[0m eta \u001b[36m0:00:00\u001b[0m\n",
            "\u001b[2K   \u001b[90m━━━━━━━━━━━━━━━━━━━━━━━━━━━━━━━━━━━━━━━━\u001b[0m \u001b[32m93.2/93.2 kB\u001b[0m \u001b[31m9.6 MB/s\u001b[0m eta \u001b[36m0:00:00\u001b[0m\n",
            "\u001b[2K   \u001b[90m━━━━━━━━━━━━━━━━━━━━━━━━━━━━━━━━━━━━━━━━\u001b[0m \u001b[32m13.3/13.3 MB\u001b[0m \u001b[31m86.9 MB/s\u001b[0m eta \u001b[36m0:00:00\u001b[0m\n",
            "\u001b[2K   \u001b[90m━━━━━━━━━━━━━━━━━━━━━━━━━━━━━━━━━━━━━━━━\u001b[0m \u001b[32m55.8/55.8 kB\u001b[0m \u001b[31m5.7 MB/s\u001b[0m eta \u001b[36m0:00:00\u001b[0m\n",
            "\u001b[2K   \u001b[90m━━━━━━━━━━━━━━━━━━━━━━━━━━━━━━━━━━━━━━━━\u001b[0m \u001b[32m54.8/54.8 kB\u001b[0m \u001b[31m4.5 MB/s\u001b[0m eta \u001b[36m0:00:00\u001b[0m\n",
            "\u001b[2K   \u001b[90m━━━━━━━━━━━━━━━━━━━━━━━━━━━━━━━━━━━━━━━━\u001b[0m \u001b[32m130.2/130.2 kB\u001b[0m \u001b[31m10.9 MB/s\u001b[0m eta \u001b[36m0:00:00\u001b[0m\n",
            "\u001b[2K   \u001b[90m━━━━━━━━━━━━━━━━━━━━━━━━━━━━━━━━━━━━━━━━\u001b[0m \u001b[32m442.1/442.1 kB\u001b[0m \u001b[31m27.6 MB/s\u001b[0m eta \u001b[36m0:00:00\u001b[0m\n",
            "\u001b[2K   \u001b[90m━━━━━━━━━━━━━━━━━━━━━━━━━━━━━━━━━━━━━━━━\u001b[0m \u001b[32m319.7/319.7 kB\u001b[0m \u001b[31m28.0 MB/s\u001b[0m eta \u001b[36m0:00:00\u001b[0m\n",
            "\u001b[2K   \u001b[90m━━━━━━━━━━━━━━━━━━━━━━━━━━━━━━━━━━━━━━━━\u001b[0m \u001b[32m3.8/3.8 MB\u001b[0m \u001b[31m82.8 MB/s\u001b[0m eta \u001b[36m0:00:00\u001b[0m\n",
            "\u001b[2K   \u001b[90m━━━━━━━━━━━━━━━━━━━━━━━━━━━━━━━━━━━━━━━━\u001b[0m \u001b[32m442.6/442.6 kB\u001b[0m \u001b[31m36.7 MB/s\u001b[0m eta \u001b[36m0:00:00\u001b[0m\n",
            "\u001b[2K   \u001b[90m━━━━━━━━━━━━━━━━━━━━━━━━━━━━━━━━━━━━━━━━\u001b[0m \u001b[32m46.0/46.0 kB\u001b[0m \u001b[31m4.2 MB/s\u001b[0m eta \u001b[36m0:00:00\u001b[0m\n",
            "\u001b[2K   \u001b[90m━━━━━━━━━━━━━━━━━━━━━━━━━━━━━━━━━━━━━━━━\u001b[0m \u001b[32m86.8/86.8 kB\u001b[0m \u001b[31m8.4 MB/s\u001b[0m eta \u001b[36m0:00:00\u001b[0m\n",
            "\u001b[?25h  Building wheel for pypika (pyproject.toml) ... \u001b[?25l\u001b[?25hdone\n",
            "\u001b[31mERROR: pip's dependency resolver does not currently take into account all the packages that are installed. This behaviour is the source of the following dependency conflicts.\n",
            "tensorflow 2.17.1 requires protobuf!=4.21.0,!=4.21.1,!=4.21.2,!=4.21.3,!=4.21.4,!=4.21.5,<5.0.0dev,>=3.20.3, but you have protobuf 5.29.0 which is incompatible.\n",
            "tensorflow-metadata 1.13.1 requires protobuf<5,>=3.20.3, but you have protobuf 5.29.0 which is incompatible.\u001b[0m\u001b[31m\n",
            "\u001b[0m"
          ]
        }
      ],
      "source": [
        "!pip install --quiet --upgrade langchain langchain-community langchain-chroma gradio langchain-openai pypdf langchain-experimental"
      ]
    },
    {
      "cell_type": "code",
      "execution_count": 2,
      "metadata": {
        "id": "mTCi19x0cCYz"
      },
      "outputs": [],
      "source": [
        "import os\n",
        "import json\n",
        "from openai import AzureOpenAI\n",
        "from langchain_openai import AzureChatOpenAI"
      ]
    },
    {
      "cell_type": "code",
      "execution_count": 12,
      "metadata": {
        "id": "jkhk2mfE_y7m"
      },
      "outputs": [],
      "source": [
        "from google.colab import userdata\n"
      ]
    },
    {
      "cell_type": "code",
      "execution_count": 13,
      "metadata": {
        "id": "6Vx5rbcDcHDz"
      },
      "outputs": [],
      "source": [
        "AZURE_OPENAI_API_KEY = userdata.get('AZURE_OPENAI_API_KEY')\n",
        "api_version = userdata.get('api_version')\n",
        "AZURE_ENDPOINT = userdata.get('AZURE_ENDPOINT')"
      ]
    },
    {
      "cell_type": "code",
      "execution_count": 14,
      "metadata": {
        "id": "01U10edkcCTR"
      },
      "outputs": [],
      "source": [
        "def get_llm():\n",
        "  return AzureChatOpenAI(\n",
        "      api_key=AZURE_OPENAI_API_KEY  ,\n",
        "      api_version=api_version,\n",
        "      azure_endpoint = AZURE_ENDPOINT\n",
        "      )"
      ]
    },
    {
      "cell_type": "code",
      "execution_count": 15,
      "metadata": {
        "id": "3mXw754KuJx9"
      },
      "outputs": [],
      "source": [
        "from langchain_core.prompts import PromptTemplate\n"
      ]
    },
    {
      "cell_type": "code",
      "execution_count": 16,
      "metadata": {
        "id": "IvOOGAsy6Mp0"
      },
      "outputs": [],
      "source": [
        "!pip install --quiet pdfplumber"
      ]
    },
    {
      "cell_type": "code",
      "execution_count": 17,
      "metadata": {
        "id": "vI-uQY4w4ivK"
      },
      "outputs": [],
      "source": [
        "import pdfplumber\n",
        "import re\n",
        "import pandas as pd\n",
        "\n",
        "def split_principle_with_tables(pdf_path):\n",
        "    principles = {\n",
        "        1: \"Principle 1:\",\n",
        "        2: \"Principle 2:\",\n",
        "        3: \"Principle 3:\",\n",
        "        4: \"Principle 4:\",\n",
        "        5: \"Principle 5:\",\n",
        "        6: \"Principle 6:\",\n",
        "        7: \"Principle 7:\",\n",
        "        8: \"Principle 8:\",\n",
        "        9: \"Principle 9:\"\n",
        "    }\n",
        "\n",
        "    principle_chunks = {key: {\"text\": \"\", \"tables\": []} for key in principles.keys()}\n",
        "    all_text = \"\"\n",
        "    all_tables = []\n",
        "\n",
        "    # Combine text and tables for global processing\n",
        "    with pdfplumber.open(pdf_path) as pdf:\n",
        "        for page_number, page in enumerate(pdf.pages):\n",
        "            text = page.extract_text()\n",
        "            tables = page.extract_tables()\n",
        "\n",
        "            all_text += text + \"\\n\"\n",
        "            all_tables.append((page_number, tables))\n",
        "\n",
        "    # Find headings and their positions (case-insensitive)\n",
        "    headings = []\n",
        "    for i, principle in principles.items():\n",
        "        for match in re.finditer(fr\"(?i){principle}\", all_text):  # (?i) makes the regex case-insensitive\n",
        "            headings.append((match.start(), i))  # Position and principle number\n",
        "\n",
        "    # Sort headings by position\n",
        "    headings = sorted(headings, key=lambda x: x[0])\n",
        "\n",
        "    # Extract content between headings\n",
        "    for idx, (start_pos, principle_num) in enumerate(headings):\n",
        "        end_pos = headings[idx + 1][0] if idx + 1 < len(headings) else len(all_text)\n",
        "        principle_chunks[principle_num][\"text\"] = all_text[start_pos:end_pos].strip()\n",
        "\n",
        "        # Process tables within the page range\n",
        "        start_page = start_pos // len(all_text) * len(all_tables)  # Estimate start page\n",
        "        end_page = end_pos // len(all_text) * len(all_tables)      # Estimate end page\n",
        "        principle_tables = []\n",
        "\n",
        "        for page_number in range(int(start_page), int(end_page) + 1):\n",
        "            if page_number < len(all_tables):\n",
        "                page_tables = all_tables[page_number][1]\n",
        "                principle_tables.extend(page_tables)\n",
        "\n",
        "        principle_chunks[principle_num][\"tables\"] = principle_tables\n",
        "\n",
        "    # Convert tables into Pandas DataFrames (optional)\n",
        "    for principle, content in principle_chunks.items():\n",
        "        content[\"tables\"] = [\n",
        "            pd.DataFrame(table) for table in content[\"tables\"] if table\n",
        "        ]\n",
        "\n",
        "    return principle_chunks\n"
      ]
    },
    {
      "cell_type": "code",
      "execution_count": 19,
      "metadata": {
        "id": "yQW0cHXRaIj1"
      },
      "outputs": [],
      "source": [
        "ct = split_principle_with_tables(\"/content/SPIL-AR2022-23-Business-Responsibility-and-Sustainability-Report.pdf\")"
      ]
    },
    {
      "cell_type": "code",
      "source": [
        "ct[6]['text']"
      ],
      "metadata": {
        "colab": {
          "base_uri": "https://localhost:8080/",
          "height": 192
        },
        "id": "l6DoJPPD_QRj",
        "outputId": "db6f64ff-4cef-477e-bdd5-cd4bf74ffd2b"
      },
      "execution_count": 20,
      "outputs": [
        {
          "output_type": "execute_result",
          "data": {
            "text/plain": [
              "'Principle 6: Businesses should respect and make efforts to protect and restore the environment\\nEssential Indicators\\n1. Details of total energy consumption (in Joules or multiples) and energy intensity:\\nParameter FY 2022-23 FY 2021-22\\nTotal electricity consumption (A) 1,489,233 GJ 1,464,919 GJ\\nTotal fuel consumption (B) 1,019,551 GJ 1,040,498 GJ\\nEnergy consumption through other sources - Steam (C) 698,069 GJ 771,969 GJ\\nTotal energy consumption (A+B+C) 3,206,853 GJ 3,277,386 GJ\\nEnergy intensity per rupee of turnover (Total energy consumption/ turnover in ₹ Million) 15.7 21.1\\nAn independent assurance has been carried out by an external agency, DNV Business Assurance towards environmental and\\nsocial parameters as per GRI standards based on the scope defined for the Sustainability Report. Key information which are\\ncommon in the defined scope of the Sustainability Report and BRSR have been reviewed by the assurance provider. Further, DNV\\nhas also reviewed company’s policies mapped with BRSR principles especially policies related to requirements of Principle 6.\\n2. Does the entity have any sites/facilities identified as designated consumers (DCs) under the Performance, Achieve\\nand Trade (PAT) Scheme of the Government of India? (Y/N) If yes, disclose whether targets set under the PAT scheme\\nhave been achieved. In case targets have not been achieved, provide the remedial action taken, if any.\\nNo, the Company is not identified as a designated consumer under the Performance Achieve and Trade (PAT) Scheme\\nof the Government of India.\\n3. Provide details of the following disclosures related to water, in the following format:\\nParameter FY 2022-23 FY 2021-22\\nWater withdrawal by source (in kilolitres)\\n(i) Surface water 578,741 583,455\\n(ii) Groundwater 752,557 809,849\\n(iii) Third party water 820,579 906,185\\n(iv) Seawater / Desalinated Water 0 0\\n(v) Others NA NA\\nTotal volume of water withdrawal (in kilolitres) (i + ii + iii + iv + v) 2,151,878 2,299,489\\nTotal volume of water consumption (in kilolitres) 2,032,731 2,209,014\\nWater intensity per rupee of turnover (Water consumed / turnover in ₹ Million) 10 14\\nAn independent assurance has been carried out by an external agency, DNV Business Assurance towards environmental and\\nsocial parameters as per GRI standards based on the scope defined for the Sustainability Report. Key information which are\\ncommon in the defined scope of the Sustainability Report and BRSR have been reviewed by the assurance provider. Further, DNV\\nhas also reviewed company’s policies mapped with BRSR principles especially policies related to requirements of Principle 6.\\n4. Has the entity implemented a mechanism for Zero Liquid Discharge? If yes, provide details of its coverage and\\nimplementation.\\nYes. Within the Company’s manufacturing facilities, 15 manufacturing and R&D locations are Zero Liquid Discharge\\n(ZLD). The company has adopted reduce, reuse, recycle and recharge strategy to conserve water. Process and domestic\\nwastewater is treated in a facility consisting of primary, secondary and tertiary treatment with membrane filtration\\n(UF/RO). Treated process wastewater is recycled in utilities as boiler feed and cooling tower make up water. Domestic\\nwaste water is treated and used for gardening and flushing.\\n102\\nCorporate Overview Statutory Reports Financial Statements\\nBusiness Responsibility and Sustainability Report\\n5. Please provide details of air emissions (other than GHG emissions) by the entity, in the following format:\\nParameter Unit FY 2022-23 FY 2021-22*\\nNOx MT 126 166\\nSOx MT 121 150\\nParticulate matter (PM) MT 142 214\\nPersistent organic pollutants (POP) - - -\\nVolatile organic compounds (VOC) - - -\\nHazardous air pollutants (HAP) - - -\\nOthers – please specify - - -\\nAn independent assurance has been carried out by an external agency, DNV Business Assurance towards environmental and\\nsocial parameters as per GRI standards based on the scope defined for the Sustainability Report. Key information which are\\ncommon in the defined scope of the Sustainability Report and BRSR have been reviewed by the assurance provider. Further, DNV\\nhas also reviewed company’s policies mapped with BRSR principles especially policies related to requirements of Principle 6.\\n6. Provide details of greenhouse gas emissions (Scope 1 and Scope 2 emissions) & its intensity, in the following format:\\nParameter Unit FY 2022-23 FY 2021-22\\nTotal Scope 1 emissions (Break-up of the GHG into CO , CH , Metric tonnes of CO eq. 41,174 47,743\\n2 4 2\\nN O, HFCs, PFCs, SF6, NF3, if available)\\n2\\nTotal Scope 2 emissions (Break-up of the GHG into CO , CH , Metric tonnes of CO eq. 261,803 254,394**\\n2 4 2\\nN O, HFCs, PFCs, SF6, NF3, if available)\\n2\\nTotal Scope 1 and Scope 2 emissions per rupee of turnover Metric tonnes of CO eq./ ₹ Million 1.49 1.95\\n2\\nAn independent assurance has been carried out by an external agency, DNV Business Assurance towards environmental and\\nsocial parameters as per GRI standards based on the scope defined for the Sustainability Report. Key information which are\\ncommon in the defined scope of the Sustainability Report and BRSR have been reviewed by the assurance provider. Further, DNV\\nhas also reviewed company’s policies mapped with BRSR principles especially policies related to requirements of Principle 6.\\n7. Does the entity have any project related to reducing Greenhouse Gas emission? If Yes, then provide details.\\nThe Company is committed to continuously improve energy performance and conserve energy in its various operations\\nalong with reducing GHG emissions.\\nMajor projects related to reducing GHG emission are listed below:\\n• Installation of Hybrid (Wind + Solar) power plant to • Motion sensor for lighting load optimisation.\\nmeet partial power requirement for Gujarat sites.\\n• Old motors are replaced with energy efficient motors.\\n• Solar rooftop installation at Halol Site.\\n• Demand side air management for reducing power\\n• Energy efficient chiller installed at Mohali plant to consumption in air compressors.\\nimprove Kw/TR.\\n• Replacement of old pump with energy efficient pump\\n• Utilisation of heat pump for hot water generator and in cooling towers.\\nreducing steam consumption.\\n• AHU automation for power reduction.\\n• Installation of energy efficient blower for\\n• Energy efficient new compressed air dryer installed.\\nHVAC system.\\n• Flash steam recovery system installed to recover\\n• Installation of VFD in various motors including chiller\\nwaste heat.\\ncompressor, pumps.\\n* Revised figure for past year (including Goa and Silvassa)\\n** Emission factor revised as per CEA guidelines for Indian Power Sector released in December 2022\\nInnovation for better patient care 103\\nSun Pharmaceutical Industries Limited Annual Report 2022-23\\n8. Provide details related to waste management by the entity:\\nParameter FY 2022-23 FY 2021-22\\nTotal Waste generated (in metric tonnes)\\nPlastic waste (A) 1,015 831\\nE-waste (B) 6 3\\nBio-medical waste (C) 66 43\\nConstruction and demolition waste (D) 0 0\\nBattery waste (E) 50 59\\nRadioactive waste (F) 0 0\\nOther Hazardous waste (G) - spent solvent, spent oil, spent catalysts, distillation residues, chemical sludge, 25,684 23,081*\\nprocess residue, discarded/ off-specification products\\nOther Non-hazardous waste generated (H) - Glass scrap, metal scrap, wooden scrap, storage drums, 16,410 16,373*\\ncorrugated box, paper waste, boiler ash\\nTotal (A + B + C + D + E + F + G + H) 43,231 40,390\\nWaste generated per rupee of turnover (Waste generated in MT / turnover in ₹ Million) 0.21 0.26\\nFor each category of waste generated, total waste recovered through recycling, re-using or other recovery\\noperations (in metric tonnes)\\nHazardous Waste\\n(i) Recycled 14,111 13,447\\n(ii) Re-used 0 0\\n(iii) Other recovery operations 0 0\\nTotal 14,111 13,447\\nNon-Hazardous Waste\\n(i) Recycled 16,787 17,152*\\n(ii) Re-used 0 0\\n(iii) Other recovery operations 442.9 694\\nTotal 17,230 17,846\\nE-waste\\n(i) Recycled 2.34 4\\n(ii) Re-used 0 0\\n(iii) Other recovery operations 0 0\\nTotal 2.34 4\\nFor each category of waste generated, total waste disposed by nature of disposal method (in metric tonnes)\\nHazardous Waste\\n(i) Incineration 605 703*\\n(ii) Landfilling 7,286 7,134*\\n(iii) Co-Processing 2,198 1,900*\\n(iv) Other disposal operations 0 0\\nTotal 10,089 9,737*\\nNon-Hazardous Waste\\n(i) Incineration 0 0\\n(ii) Landfilling 0 0\\n(iii) Other disposal operations 0 0\\nTotal 0 0\\nAn independent assurance has been carried out by an external agency, DNV Business Assurance towards environmental and\\nsocial parameters as per GRI standards based on the scope defined for the Sustainability Report. Key information which are\\ncommon in the defined scope of the Sustainability Report and BRSR have been reviewed by the assurance provider. Further,\\nDNV has also reviewed company’s policies mapped with BRSR principles especially policies related to requirements of Principle 6.\\n* Revised figure for past year\\n104\\nCorporate Overview Statutory Reports Financial Statements\\nBusiness Responsibility and Sustainability Report\\n9. B riefly describe the waste management practices adopted in your establishments. Describe the strategy adopted by\\nyour company to reduce usage of hazardous and toxic chemicals in your products and processes and the practices\\nadopted to manage such wastes.\\nThe Company’s waste management plan includes a strategy for waste minimisation, segregation, and safe disposal.\\nThe Company has implemented a number of measures to reduce manufacturing rejects aligned with its resource\\noptimisation and waste minimisation objectives. The Company complies with the requirements of Extended Producer\\nResponsibility (EPR) by collecting end-of-use plastic and improving its management of plastic waste. Additionally, the\\nCompany has adopted initiatives to divert greater amounts of hazardous waste toward co-processing and recycling\\nover other disposal mechanisms, such as burning and landfilling, as part of the hazardous waste disposal mechanism.\\nAdditionally, the Company has embraced digitalisation to reduce paper consumption.\\n10. If the entity has operations/offices in/around ecologically sensitive areas (such as national parks, wildlife sanctuaries,\\nbiosphere reserves, wetlands, biodiversity hotspots, forests, coastal regulation zones etc.) where environmental\\napprovals / clearances are required, please specify details in the following format:\\nThe Company has one of its manufacturing locations located in an ecologically sensitive area.\\nType of Whether the conditions of environmental approval / clearance are being complied\\nLocation of operations/offices\\noperations with? (Y/N) If no, the reasons thereof and corrective action taken, if any.\\nMaduranthakam Manufacturing The facility has the “consent to operate” from the concerned Pollution Control Board.\\n11. Details of environmental impact assessments of projects undertaken by the entity based on applicable laws, in the\\ncurrent financial year:\\nThe Company has not undertaken any Environmental Impact Assessments in the reporting year.\\n12. Is the entity compliant with the applicable environmental law/ regulations/ guidelines in India; such as the Water\\n(Prevention and Control of Pollution) Act, Air (Prevention and Control of Pollution) Act, Environment protection act\\nand rules thereunder (Y/N). If not, provide details of all such non-compliances, in the following format:\\nAny fines / penalties /\\nSpecify the law / regulation\\nSr. Provide details of action taken by regulatory\\n/ guidelines which was not Corrective action taken, if any\\nNo. the non-compliance agencies such as pollution\\ncomplied with\\ncontrol boards or by courts\\n1. Action under Section 32 of the Accidental stagnation of greyish Paid ₹ 5 million under All stagnant water was lifted for treatment\\nwater (Prevention and Control colour water, mix of rainwater, run section 32 of the Water at the ETP facility, and the area was\\nof Pollution) Act 1974 from off water from plant areas and an (Prevention and Control of cleaned, the upper layer of the soil was\\nPunjab Pollution Control Board odour in treated water observed at Pollution) Act 1974 disposed of at TSDF facility Nimbua\\nopen area at the Toansa facility. Punjab. Soil was tested and parameters\\nfound to be with the limit.\\nLeadership Indicators\\n1. Provide break-up of the total energy consumed (in Joules or multiples) from renewable and non-renewable sources,\\nin the following format:\\nParameter FY 2022-23 FY 2021-22\\nFrom Renewable Sources\\nTotal electricity consumption (A) 161,783 GJ 156,605 GJ\\nTotal fuel consumption (B) 410,840 GJ 357,123 GJ\\nEnergy consumption through other sources (C) 698,069 GJ 771,969 GJ\\nTotal energy consumed from renewable sources (A+B+C) 1,270,692 GJ 1,285,697 GJ\\nPercentage of total energy from renewable sources 39.6% 39.2%\\nFrom Non-renewable Sources\\nTotal electricity consumption (D) 1,327,450 GJ 1,308,314 GJ\\nTotal fuel consumption (E) 608,711 GJ 683,375 GJ\\nEnergy consumption through other sources (F) 0 GJ 0 GJ\\nTotal energy consumed from non-renewable sources (D+E+F) 1,936,161 GJ 1,991,689 GJ\\nAn independent assurance has been carried out by an external agency, DNV Business Assurance towards environmental and\\nsocial parameters as per GRI standards based on the scope defined for the Sustainability Report. Key information which are\\ncommon in the defined scope of the Sustainability Report and BRSR have been reviewed by the assurance provider. Further, DNV\\nhas also reviewed company’s policies mapped with BRSR principles especially policies related to requirements of Principle 6.\\nInnovation for better patient care 105\\nSun Pharmaceutical Industries Limited Annual Report 2022-23\\n2. Provide the following details related to water discharged:\\nParameter FY 2022-23 FY 2021-22\\nWater discharge by destination and level of treatment (in kilolitres)\\n(i) To Surface water\\n– No treatment 0 0\\n– With treatment – please specify level of treatment 0 0\\n(ii) To Groundwater\\n– No treatment 0 0\\n– With treatment – please specify level of treatment 0 0\\n(iii) To Seawater\\n– No treatment 0 0\\n– With treatment – please specify level of treatment 0 0\\n(iv) Sent to third parties 119,147 90,475\\n– No treatment -\\n– With treatment – please specify level of treatment Primary treatment (post Primary treatment (post\\nprimary treatment, sent primary treatment, sent\\nto the CETP) - 58,189 to the CETP) - 36,528\\nkL Tertiary treatment kL Tertiary treatment\\n(In-house ETP treatment, (In-house ETP treatment,\\npost which sent to the post which sent to the\\nMunicipality sewage Municipality sewage\\ndrain) - 60,958 kL drain) - 53,947 kL\\n(v) Others NA NA\\n– No treatment NA NA\\n– With treatment – please specify level of treatment NA NA\\nTotal water discharged (in kilolitres) 119,147 90,475\\nWater discharged per rupee of turnover (Water discharged in MT / turnover ₹ Million) 0.58 0.58\\nAn independent assurance has been carried out by an external agency, DNV Business Assurance towards environmental and\\nsocial parameters as per GRI standards based on the scope defined for the Sustainability Report. Key information which are\\ncommon in the defined scope of the Sustainability Report and BRSR have been reviewed by the assurance provider. Further, DNV\\nhas also reviewed company’s policies mapped with BRSR principles especially policies related to requirements of Principle 6.\\n3. Water withdrawal, consumption and discharge in areas of water stress (in kilolitres):\\nFor each facility / plant located in areas of water stress, provide the following information:\\n(i) Name of the area*: Dadra, Gurugram, Mohali, Silvassa, Toansa\\n(ii) Nature of operations: Manufacturing, R&D centre\\n*Identified as per Central Ground Water Board (CGWB) Report, 2022\\n106\\nCorporate Overview Statutory Reports Financial Statements\\nBusiness Responsibility and Sustainability Report\\n(iii) Water withdrawal, consumption and discharge in the following format:\\nParameter FY 2022-23 FY 2021-22\\nWater withdrawal by source (in kilolitres)\\n(i) Surface water 7,200 7,200*\\n(ii) Groundwater 447,394 497,240*\\n(iii) Third party water 53,998 51,717*\\n(iv) Seawater / desalinated water 0 0\\n(v) Others 0 0\\nTotal volume of water withdrawal (in kilolitres) 508,592 556,157*\\nTotal volume of water consumption (in kilolitres) 502,284 551,733*\\nWater intensity per rupee of turnover (Water consumed / turnover in ₹ Million) 2.46 3.56*\\nWater discharge by destination and level of treatment (in kilolitres)\\n(i) Into Surface water\\n– No treatment 0 0\\n– With treatment – please specify level of treatment 0 0\\n(ii) Into Groundwater\\n– No treatment 0 0\\n– With treatment – please specify level of treatment 0 0\\n(iii) Into Seawater\\n– No treatment 0 0\\n– With treatment – please specify level of treatment 0 0\\n(iv) Sent to third parties\\n– No treatment 0 0\\n– With treatment – please specify level of treatment Tertiary treatment (In- Tertiary treatment (In-\\nhouse ETP treatment, house ETP treatment,\\npost which sent to the post which sent to the\\nMunicipality sewage Municipality sewage\\ndrain) - 6,308 kL drain) - 4,424 kL\\nTotal water discharged (in kilolitres) 6,308 4,424\\nAn independent assurance has been carried out by an external agency, DNV Business Assurance towards environmental and\\nsocial parameters as per GRI standards based on the scope defined for the Sustainability Report. Key information which are\\ncommon in the defined scope of the Sustainability Report and BRSR have been reviewed by the assurance provider. Further, DNV\\nhas also reviewed company’s policies mapped with BRSR principles especially policies related to requirements of Principle 6.\\n4. With respect to the ecologically sensitive areas reported at Question 10 of Essential Indicators above, provide\\ndetails of significant direct & indirect impact of the entity on biodiversity in such areas along-with prevention and\\nremediation activities.\\nThe manufacturing facility, Maduranthakam is located 3.72 km (West) from the Vedanthangal Bird Sanctuary. The\\nfacility was functional before the declaration of Vedanthangal Bird Sanctuary in 1998. The facility has no significant\\ndirect or indirect impact on the environment. Additionally, the Consent to Operate by the relevant Pollution Control\\nBoard has also been obtained. It is a Zero Liquid Discharge (ZLD) site, equipped with an effluent treatment facility to\\nfurther direct the treated wastewater for in-house uses.\\n* Revised figure for past year\\nInnovation for better patient care 107\\nSun Pharmaceutical Industries Limited Annual Report 2022-23\\n5. If the entity has undertaken any specific initiatives or used innovative technology or solutions to improve resource\\nefficiency, or reduce impact due to emissions / effluent discharge / waste generated, please provide details of the\\nsame as well as outcome of such initiatives, as per the following format:\\nSr. Initiative Details of the initiative (Web-link, if any, may be provided along-with\\nOutcome of the initiative\\nNo. undertaken summary)\\n1. Hybrid Solar-Wind A hybrid solar-wind power plant has been installed for increased efficiency in Reduction in GHG emission.\\nPowerplant generation of energy. This hybrid model enables regulated energy generation,\\nenhancing conservation of energy.\\n2. Electronically In order to address the challenges of conventional fan systems, EC Blowers have 1. Reduction in GHG emission.\\nCommutated (EC) been installed as a direct drive Fan Grid solution. Such an integrated system 2. Reduction in Energy consumption\\nBlower enables minimal power loss. There is also minimal effort required for installation\\n3. Reliability improvement\\nand maintenance. Further, the motor used in this blower is a brushless, permanent\\nmagnet motor with built-in electronics that control the torque and speed of the\\nblower.\\n6. Does the entity have a business continuity and disaster management plan? Give details in 100 words/ web link\\nYes, the Company has a business continuity and on-site emergency plan for all its locations. This business continuity\\nplan enables the Company to adapt and respond to situations arising from any natural calamity or an unprecedented\\nevent which may disrupt the business operations. The Company continuously enhances its existing plan by\\nincorporating inferences and observations from disruptions faced in unprecedented situations. Further, the Company’s\\nrisk management plan enables the minimisation of disaster-linked losses, by assessing the potential for major disruption\\nwith its consequent risks to the business, and by providing appropriate mitigation action plans.\\n7. Disclose any significant adverse impact to the environment, arising from the value chain of the entity. What mitigation\\nor adaptation measures have been taken by the entity in this regard?\\nN ot Applicable\\n8. Percentage of value chain partners (by value of business done with such partners) that were assessed for\\nenvironmental impacts.\\nThe Company’s Supplier Code of Conduct is developed based on the best practices, standards and guidelines for\\nevaluation of suppliers in the pharmaceutical supply chain. The evaluation checklist encompasses various ESG\\nparameters to ascertain the adherence with the Company’s Supplier Code of Conduct. Assessment of value chain\\npartners on the basis of the Company’s Supplier Code of Conduct has been initiated for selected vendors and will be\\nextended to all critical vendors in due course.\\n108\\nCorporate Overview Statutory Reports Financial Statements\\nBusiness Responsibility and Sustainability Report\\nResponsible Public Advocacy'"
            ],
            "application/vnd.google.colaboratory.intrinsic+json": {
              "type": "string"
            }
          },
          "metadata": {},
          "execution_count": 20
        }
      ]
    },
    {
      "cell_type": "code",
      "source": [
        "import pandas as pd\n",
        "\n",
        "df = pd.read_excel(\"ghg_data08 (1).xlsx\")"
      ],
      "metadata": {
        "id": "zgEQbA1b7QgX"
      },
      "execution_count": 9,
      "outputs": []
    },
    {
      "cell_type": "code",
      "source": [
        "from pydantic import BaseModel, Field\n",
        "from typing import List, Optional\n",
        "\n",
        "class Answer(BaseModel):\n",
        "    question: str = Field(..., description=\"The extracted question from the report.\")\n",
        "    # answer: str = Field(..., description=\"The corresponding answer to the question.\")\n",
        "\n",
        "class SectionQA(BaseModel):\n",
        "    section_title: str = Field(..., description=\"The title of the section from which the Q&A is extracted.\")\n",
        "    questions_answers: List[Answer] = Field(..., description=\"List of questions.\")\n"
      ],
      "metadata": {
        "id": "0MAfh8MyAp6O"
      },
      "execution_count": 60,
      "outputs": []
    },
    {
      "cell_type": "code",
      "source": [
        "qae_prompt = PromptTemplate.from_template(\"\"\"\n",
        "You are asked to generate BRSR report Section C principle 6, for that you're asked to answer:\n",
        "Principle 6: Businesses should respect and make efforts to protect and restore the environment\n",
        "\n",
        "Essential Indicators\n",
        "\n",
        "1. Details of total energy consumption (in Joules or multiples) and energy intensity:\n",
        "<Answer>\n",
        "\n",
        "2. Does the entity have any sites/facilities identified as designated consumers (DCs) under the Performance, Achieve and Trade (PAT) Scheme of the Government of India? (Y/N) If yes, disclose whether targets set under the PAT scheme have been achieved. In case targets have not been achieved, provide the remedial action taken, if any.\n",
        "<Answer>\n",
        "\n",
        "3. Provide details of the following disclosures related to water.\n",
        "<Answer>\n",
        "\n",
        "4. Has the entity implemented a mechanism for Zero Liquid Discharge? If yes, provide details of its coverage and implementation.\n",
        "<Answer>\n",
        "\n",
        "5. Please provide details of air emissions (other than GHG emissions) by the entity\n",
        "<Answer>\n",
        "\n",
        "6. Provide details of greenhouse gas emissions (Scope 1 and Scope 2 emissions) & its intensity, in the following format\n",
        "<Answer>\n",
        "\n",
        "7. Does the entity have any project related to reducing Greenhouse Gas emission? If Yes, then provide details.\n",
        "<Answer>\n",
        "\n",
        "8. Provide details related to waste management by the entity:\n",
        "<Answer>\n",
        "\n",
        "9. Briefly describe the waste management practices adopted in your establishments. Describe the strategy adopted by your company to reduce usage of hazardous and toxic chemicals in your products and processes and the practices adopted to manage such wastes.\n",
        "<Answer>\n",
        "\n",
        "10. If the entity has operations/offices in/around ecologically sensitive areas (such as national parks, wildlife sanctuaries, biosphere reserves, wetlands, biodiversity hotspots, forests, coastal regulation zones etc.) where environmental approvals / clearances are required, please specify details in the following format:\n",
        "<Answer>\n",
        "\n",
        "11. Details of environmental impact assessments of projects undertaken by the entity based on applicable laws, in the current financial year:\n",
        "<Answer>\n",
        "\n",
        "12. Is the entity compliant with the applicable environmental law/ regulations/ guidelines in India; such as the Water (Prevention and Control of Pollution) Act, Air (Prevention and Control of Pollution) Act, Environment protection act and rules thereunder (Y/N). If not, provide details of all such non-compliances\n",
        "<Answer>\n",
        "\n",
        "\n",
        "Leadership Indicators\n",
        "\n",
        "1. Provide break-up of the total energy consumed (in Joules or multiples) from renewable and non-renewable sources\n",
        "<Answer>\n",
        "\n",
        "2. Provide the following details related to water discharged:\n",
        "<Answer>\n",
        "\n",
        "\n",
        "3. Water withdrawal, consumption and discharge in areas of water stress (in kilolitres):\n",
        "<Answer>\n",
        "\n",
        "\n",
        "4. With respect to the ecologically sensitive areas reported at Question 10 of Essential Indicators above, provide details of significant direct & indirect impact of the entity on biodiversity in such areas along-with prevention and remediation activities.\n",
        "<Answer>\n",
        "\n",
        "5. If the entity has undertaken any specific initiatives or used innovative technology or solutions to improve resource efficiency, or reduce impact due to emissions / effluent discharge / waste generated, please provide details of the same as well as outcome of such initiatives, as per the following format:\n",
        "<Answer>\n",
        "\n",
        "6. Does the entity have a business continuity and disaster management plan? Give details in 100 words/ web link\n",
        "<Answer>\n",
        "\n",
        "7. Disclose any significant adverse impact to the environment, arising from the value chain of the entity. What mitigation or adaptation measures have been taken by the entity in this regard?\n",
        "<Answer>\n",
        "\n",
        "8. Percentage of value chain partners (by value of business done with such partners) that were assessed for environmental impacts.\n",
        "<Answer>\n",
        "\n",
        "\n",
        "you have access to previous year report section: {report},\n",
        "\n",
        "we want to answer the questions in the similar format as previous, extract all the atomic questions(ask short questions rather than general questions covering multiple short questions) to ask to the company to get the new data to fill the report section. for answers extract previous year's answers.\n",
        "\"\"\")"
      ],
      "metadata": {
        "id": "MERHDgk1bU5K"
      },
      "execution_count": 47,
      "outputs": []
    },
    {
      "cell_type": "code",
      "source": [
        "qae_llm = get_llm()\n",
        "qae_llm = qae_llm.with_structured_output(SectionQA)\n",
        "\n"
      ],
      "metadata": {
        "id": "VNeGsPed4MHX"
      },
      "execution_count": 61,
      "outputs": []
    },
    {
      "cell_type": "code",
      "source": [
        "# result = qae_llm.invoke(\"Convert it into list of questions from all the points and subpoints in \"+template_data_response)"
      ],
      "metadata": {
        "id": "gQ2OHJRLB27t"
      },
      "execution_count": 73,
      "outputs": []
    },
    {
      "cell_type": "code",
      "source": [
        "# print(template_data_response)"
      ],
      "metadata": {
        "colab": {
          "base_uri": "https://localhost:8080/"
        },
        "collapsed": true,
        "id": "a-jYj-8Ri2Aq",
        "outputId": "255dd804-5ad6-41d8-9f93-23a0caf309a9"
      },
      "execution_count": 67,
      "outputs": [
        {
          "output_type": "stream",
          "name": "stdout",
          "text": [
            "To accurately complete the Business Responsibility and Sustainability Report (BRSR) template based on the provided PDF content, the following essential data points are required:\n",
            "\n",
            "### Energy Consumption\n",
            "1. **Total electricity consumption (FY 2022-23)**: 1,489,233 GJ\n",
            "2. **Total fuel consumption (FY 2022-23)**: 1,019,551 GJ\n",
            "3. **Energy consumption through other sources - Steam (FY 2022-23)**: 698,069 GJ\n",
            "4. **Total energy consumption (FY 2022-23)**: 3,206,853 GJ\n",
            "5. **Energy intensity per rupee of turnover (FY 2022-23)**: 15.7\n",
            "\n",
            "### Water Management\n",
            "6. **Water withdrawal by source (FY 2022-23)**:\n",
            "   - Surface water: 578,741 kL\n",
            "   - Groundwater: 752,557 kL\n",
            "   - Third-party water: 820,579 kL\n",
            "   - Total volume of water withdrawal: 2,151,878 kL\n",
            "7. **Total volume of water consumption (FY 2022-23)**: 2,032,731 kL\n",
            "8. **Water intensity per rupee of turnover (FY 2022-23)**: 10\n",
            "9. **Water discharge details (FY 2022-23)**:\n",
            "   - Total water discharged: 119,147 kL\n",
            "   - Water discharged per rupee of turnover: 0.58\n",
            "\n",
            "### Air Emissions\n",
            "10. **Details of air emissions (FY 2022-23)**:\n",
            "    - NOx: 126 MT\n",
            "    - SOx: 121 MT\n",
            "    - Particulate matter (PM): 142 MT\n",
            "\n",
            "### Greenhouse Gas Emissions\n",
            "11. **Total Scope 1 emissions (FY 2022-23)**: 41,174 metric tonnes CO2 eq.\n",
            "12. **Total Scope 2 emissions (FY 2022-23)**: 261,803 metric tonnes CO2 eq.\n",
            "13. **Total Scope 1 and Scope 2 emissions per rupee of turnover (FY 2022-23)**: 1.49 metric tonnes CO2 eq./₹ Million\n",
            "\n",
            "### Waste Management\n",
            "14. **Total waste generated (FY 2022-23)**: 43,231 MT\n",
            "15. **Breakdown of waste generated (FY 2022-23)**:\n",
            "    - Plastic waste: 1,015 MT\n",
            "    - E-waste: 6 MT\n",
            "    - Bio-medical waste: 66 MT\n",
            "    - Other hazardous waste: 25,684 MT\n",
            "    - Other non-hazardous waste: 16,410 MT\n",
            "16. **Total waste recovered through recycling (FY 2022-23)**: \n",
            "    - Hazardous Waste Recycled: 14,111 MT\n",
            "    - Non-Hazardous Waste Recycled: 16,787 MT\n",
            "\n",
            "### Compliance and Environmental Approvals\n",
            "17. **Compliance with applicable environmental laws (Y/N)**: Yes\n",
            "18. **Details of environmental approval compliance**:\n",
            "    - Location: Maduranthakam Manufacturing\n",
            "    - Compliance status: Yes (consent to operate obtained)\n",
            "\n",
            "### Zero Liquid Discharge\n",
            "19. **Implementation of Zero Liquid Discharge (Y/N)**: Yes\n",
            "20. **Number of facilities with Zero Liquid Discharge**: 15\n",
            "\n",
            "These data points provide a comprehensive overview necessary to fill out the relevant sections of the BRSR template accurately.\n"
          ]
        }
      ]
    },
    {
      "cell_type": "code",
      "source": [
        "# all_questions = \"\"\n",
        "# for qa in result.questions_answers:\n",
        "#   print(qa.question)\n",
        "#   all_questions += qa.question + \"\\n\"\n",
        "#   # print(qa.answer)\n",
        "\n",
        "#   print()"
      ],
      "metadata": {
        "colab": {
          "base_uri": "https://localhost:8080/"
        },
        "id": "4z_fprmXJt3x",
        "outputId": "464e5eb3-e10c-447a-de99-d90f1d63275d"
      },
      "execution_count": 75,
      "outputs": [
        {
          "output_type": "stream",
          "name": "stdout",
          "text": [
            "What was the total electricity consumption for FY 2022-23?\n",
            "\n",
            "What was the total fuel consumption for FY 2022-23?\n",
            "\n",
            "What was the energy consumption through other sources - Steam for FY 2022-23?\n",
            "\n",
            "What was the total energy consumption for FY 2022-23?\n",
            "\n",
            "What was the energy intensity per rupee of turnover for FY 2022-23?\n",
            "\n",
            "What was the volume of surface water withdrawal for FY 2022-23?\n",
            "\n",
            "What was the volume of groundwater withdrawal for FY 2022-23?\n",
            "\n",
            "What was the volume of third-party water withdrawal for FY 2022-23?\n",
            "\n",
            "What was the total volume of water withdrawal for FY 2022-23?\n",
            "\n",
            "What was the total volume of water consumption for FY 2022-23?\n",
            "\n",
            "What was the water intensity per rupee of turnover for FY 2022-23?\n",
            "\n",
            "What was the total water discharged for FY 2022-23?\n",
            "\n",
            "What was the water discharged per rupee of turnover for FY 2022-23?\n",
            "\n",
            "What were the NOx emissions for FY 2022-23?\n",
            "\n",
            "What were the SOx emissions for FY 2022-23?\n",
            "\n",
            "What were the particulate matter emissions for FY 2022-23?\n",
            "\n",
            "What was the total Scope 1 emissions for FY 2022-23?\n",
            "\n",
            "What was the total Scope 2 emissions for FY 2022-23?\n",
            "\n",
            "What were the total Scope 1 and Scope 2 emissions per rupee of turnover for FY 2022-23?\n",
            "\n",
            "What was the total waste generated for FY 2022-23?\n",
            "\n",
            "What was the breakdown of plastic waste generated for FY 2022-23?\n",
            "\n",
            "What was the breakdown of e-waste generated for FY 2022-23?\n",
            "\n",
            "What was the breakdown of bio-medical waste generated for FY 2022-23?\n",
            "\n",
            "What was the breakdown of other hazardous waste generated for FY 2022-23?\n",
            "\n",
            "What was the breakdown of other non-hazardous waste generated for FY 2022-23?\n",
            "\n",
            "What was the total waste recovered through recycling for hazardous waste in FY 2022-23?\n",
            "\n",
            "What was the total waste recovered through recycling for non-hazardous waste in FY 2022-23?\n",
            "\n",
            "Is there compliance with applicable environmental laws?\n",
            "\n",
            "What are the details of environmental approval compliance?\n",
            "\n",
            "Is there implementation of Zero Liquid Discharge?\n",
            "\n",
            "How many facilities have Zero Liquid Discharge?\n",
            "\n"
          ]
        }
      ]
    },
    {
      "cell_type": "code",
      "source": [
        "from langchain.agents import AgentType\n",
        "from langchain_experimental.agents import create_pandas_dataframe_agent\n",
        "\n",
        "\n",
        "pandas_df_agent = create_pandas_dataframe_agent(\n",
        "    get_llm(),\n",
        "    df,\n",
        "    verbose=True,\n",
        "    agent_type=AgentType.OPENAI_FUNCTIONS,\n",
        "    allow_dangerous_code=True,\n",
        "    handle_parsing_errors=True,\n",
        ")\n"
      ],
      "metadata": {
        "colab": {
          "base_uri": "https://localhost:8080/"
        },
        "id": "xAR1o4V77VAf",
        "outputId": "130d5847-87a7-4b4b-e742-73ad76cbd5b6"
      },
      "execution_count": 69,
      "outputs": [
        {
          "output_type": "stream",
          "name": "stderr",
          "text": [
            "/usr/local/lib/python3.10/dist-packages/langchain_experimental/agents/agent_toolkits/pandas/base.py:283: UserWarning: Received additional kwargs {'handle_parsing_errors': True} which are no longer supported.\n",
            "  warnings.warn(\n"
          ]
        }
      ]
    },
    {
      "cell_type": "code",
      "source": [
        "output = pandas_df_agent.invoke(f\"\"\"{all_questions}\"\"\")"
      ],
      "metadata": {
        "colab": {
          "base_uri": "https://localhost:8080/"
        },
        "collapsed": true,
        "id": "KpnBwHkSg8og",
        "outputId": "9782fd4b-3669-4373-b023-48122fd7c309"
      },
      "execution_count": 77,
      "outputs": [
        {
          "output_type": "stream",
          "name": "stdout",
          "text": [
            "\n",
            "\n",
            "\u001b[1m> Entering new AgentExecutor chain...\u001b[0m\n",
            "\u001b[32;1m\u001b[1;3m\n",
            "Invoking: `python_repl_ast` with `{'query': \"df['Category'].unique()\"}`\n",
            "responded: To answer these questions, we need to perform calculations and data extraction from the provided DataFrame (`df`) for the fiscal year 2022-23. Let's start by extracting the data relevant to each question. I'll check the columns available in the DataFrame and perform the necessary calculations. \n",
            "\n",
            "Let's begin with the extraction and calculations for the first few questions regarding electricity and fuel consumption. \n",
            "\n",
            "I'll first check the unique values in the \"Category\" column to understand what is available for electricity and fuel consumption. Then, we can proceed with the calculations.\n",
            "\n",
            "\u001b[0m\u001b[36;1m\u001b[1;3m['Stationary combustion' 'Refrigerants' 'Electricity purchase'\n",
            " 'Business travel' 'Employee commute' 'Work from home'\n",
            " 'Work from home Equipment' 'Waste emissions' 'Purchased goods & services'\n",
            " 'Electricity losses' 'Upstream Transportation']\u001b[0m\u001b[32;1m\u001b[1;3m\n",
            "Invoking: `python_repl_ast` with `{'query': \"electricity_consumption = df[(df['Category'] == 'Electricity purchase') & (df['Year'] == 2023)]['Total_Value'].sum()\\n\\nfuel_consumption = df[(df['Category'] == 'Stationary combustion') & (df['Year'] == 2023)]['Total_Value'].sum()\\n\\nelectricity_consumption, fuel_consumption\"}`\n",
            "responded: The unique values in the \"Category\" column include \"Stationary combustion\", \"Electricity purchase\", and several others. To answer the questions about electricity and fuel consumption, I'll filter the DataFrame for the relevant categories and calculate the totals.\n",
            "\n",
            "1. **Total Electricity Consumption**: This will be from the \"Electricity purchase\" category.\n",
            "2. **Total Fuel Consumption**: This will be from the \"Stationary combustion\" category (as it involves combustion fuels).\n",
            "3. **Energy Consumption through Other Sources (Steam)**: We need to check if there is a relevant category for steam in the DataFrame.\n",
            "4. **Total Energy Consumption**: This will include electricity and fuel consumption.\n",
            "\n",
            "Let's proceed to calculate the total electricity consumption and fuel consumption for FY 2022-23.\n",
            "\n",
            "\u001b[0m\u001b[36;1m\u001b[1;3m(1370006.0, 793390.0)\u001b[0m\u001b[32;1m\u001b[1;3m\n",
            "Invoking: `python_repl_ast` with `{'query': \"df['Type'].unique()\"}`\n",
            "responded: The total consumption for FY 2022-23 is as follows:\n",
            "\n",
            "1. **Total Electricity Consumption**: 1,370,006 (kWh)\n",
            "2. **Total Fuel Consumption**: 793,390 (GJ)\n",
            "\n",
            "Next, I'll check if there is any category related to steam in the DataFrame for the energy consumption through other sources. Let's inspect the \"Type\" column to find relevant entries.\n",
            "\n",
            "\u001b[0m\u001b[36;1m\u001b[1;3m['Green Gas' 'Natural gas' 'R-410 A'\n",
            " 'Purchased electricity (market-based)' 'Purchased district heating'\n",
            " 'Taxi' 'Train' 'Car - Petrol' 'Car - Diesel' 'Car - Plug-in Hybrid'\n",
            " 'Car - Electric' 'Bus Local' 'Natural Gas' 'Electricity'\n",
            " 'Mixed Commerical Waste emissions (non-recyclable)' 'Mixed Recycling'\n",
            " 'Food Waste emissions, anerobic digestion' 'Paper' 'Milk (dairy)'\n",
            " 'Milk (oat)' 'Fruit' 'Electricity Grid Loss' 'inbound logistics'\n",
            " 'third-party transportation' 'Milk(dairy)']\u001b[0m\u001b[32;1m\u001b[1;3m\n",
            "Invoking: `python_repl_ast` with `{'query': 'total_energy_consumption = electricity_consumption + fuel_consumption\\ntotal_energy_consumption'}`\n",
            "responded: The \"Type\" column does not contain a specific entry for steam. It seems that the data may not include a direct category for steam consumption. \n",
            "\n",
            "Next, let's calculate the **Total Energy Consumption** for FY 2022-23, which will include both electricity and fuel consumption. I'll sum the two values we obtained earlier.\n",
            "\n",
            "\u001b[0m\u001b[36;1m\u001b[1;3m2163396.0\u001b[0m\u001b[32;1m\u001b[1;3m\n",
            "Invoking: `python_repl_ast` with `{'query': 'df.columns'}`\n",
            "responded: The **Total Energy Consumption** for FY 2022-23 is 2,163,396 (kWh/GJ).\n",
            "\n",
            "Next, let's calculate the **Energy Intensity per Rupee of Turnover** for FY 2022-23. To perform this calculation, we need to know the turnover value. If the turnover is not available in the DataFrame columns, we may need to look for it or assume a placeholder for now. \n",
            "\n",
            "Let's check for any turnover-related data in the DataFrame.\n",
            "\n",
            "\u001b[0m\u001b[36;1m\u001b[1;3mIndex(['Scope', 'Location', 'Category', 'BRSR_Category', 'Type', 'Year', 'Jan',\n",
            "       'Feb', 'Mar', 'Apr', 'May', 'Jun', 'Jul', 'Aug', 'Sep', 'Oct', 'Nov',\n",
            "       'Dec', 'Total_Value', 'Unit', 'Source', 'Total_Emission',\n",
            "       'Emission factor', 'Unit (Emission factor)'],\n",
            "      dtype='object')\u001b[0m\u001b[32;1m\u001b[1;3m\n",
            "Invoking: `python_repl_ast` with `{'query': \"df[df['Category'].str.contains('water', case=False)]['Category'].unique()\"}`\n",
            "responded: The DataFrame columns do not contain any direct information regarding turnover. Without this information, we cannot calculate the **Energy Intensity per Rupee of Turnover**.\n",
            "\n",
            "Next, let's continue with the water withdrawal and consumption-related questions. We can check for categories related to water withdrawal and consumption in the DataFrame. Let's inspect the \"Category\" column again for any water-related entries.\n",
            "\n",
            "\u001b[0m\u001b[36;1m\u001b[1;3m[]\u001b[0m\u001b[32;1m\u001b[1;3m\n",
            "Invoking: `python_repl_ast` with `{'query': \"emission_categories = df[df['Category'].str.contains('emission', case=False)]['Category'].unique()\\nemission_categories\"}`\n",
            "responded: It appears that there are no categories explicitly mentioning water in the DataFrame. Consequently, we cannot retrieve data for the following:\n",
            "\n",
            "- Volume of surface water withdrawal\n",
            "- Volume of groundwater withdrawal\n",
            "- Volume of third-party water withdrawal\n",
            "- Total volume of water withdrawal\n",
            "- Total volume of water consumption\n",
            "- Water intensity per rupee of turnover\n",
            "- Total water discharged\n",
            "- Water discharged per rupee of turnover\n",
            "\n",
            "Next, let’s check for emissions data (NOx, SOx, particulate matter, and Scope 1 & 2 emissions) and see if we can extract that information from the DataFrame. I'll filter for emission-related categories.\n",
            "\n",
            "\u001b[0m\u001b[36;1m\u001b[1;3m['Waste emissions']\u001b[0m\u001b[32;1m\u001b[1;3mThe only emission-related category in the DataFrame is \"Waste emissions.\" This does not provide the specific emissions data we need for NOx, SOx, particulate matter, and Scope 1 and Scope 2 emissions.\n",
            "\n",
            "To summarize what we've obtained so far:\n",
            "\n",
            "1. **Total Electricity Consumption**: 1,370,006 (kWh)\n",
            "2. **Total Fuel Consumption**: 793,390 (GJ)\n",
            "3. **Total Energy Consumption**: 2,163,396 (kWh/GJ)\n",
            "\n",
            "Unfortunately, we do not have data regarding steam consumption, turnover for energy intensity calculations, or any water-related metrics and emissions data.\n",
            "\n",
            "If you have additional data or specific turnover values, please provide them so we can continue with the calculations. Alternatively, we can proceed to the other questions regarding waste generation and compliance if that data is available in the DataFrame. Would you like to continue with that?\u001b[0m\n",
            "\n",
            "\u001b[1m> Finished chain.\u001b[0m\n"
          ]
        }
      ]
    },
    {
      "cell_type": "code",
      "source": [
        "print(output['output'])"
      ],
      "metadata": {
        "colab": {
          "base_uri": "https://localhost:8080/"
        },
        "id": "zcpjkDeumoJO",
        "outputId": "cc7066df-54fd-420c-bdd0-0110ff225773"
      },
      "execution_count": 83,
      "outputs": [
        {
          "output_type": "stream",
          "name": "stdout",
          "text": [
            "The only emission-related category in the DataFrame is \"Waste emissions.\" This does not provide the specific emissions data we need for NOx, SOx, particulate matter, and Scope 1 and Scope 2 emissions.\n",
            "\n",
            "To summarize what we've obtained so far:\n",
            "\n",
            "1. **Total Electricity Consumption**: 1,370,006 (kWh)\n",
            "2. **Total Fuel Consumption**: 793,390 (GJ)\n",
            "3. **Total Energy Consumption**: 2,163,396 (kWh/GJ)\n",
            "\n",
            "Unfortunately, we do not have data regarding steam consumption, turnover for energy intensity calculations, or any water-related metrics and emissions data.\n",
            "\n",
            "If you have additional data or specific turnover values, please provide them so we can continue with the calculations. Alternatively, we can proceed to the other questions regarding waste generation and compliance if that data is available in the DataFrame. Would you like to continue with that?\n"
          ]
        }
      ]
    },
    {
      "cell_type": "code",
      "execution_count": 51,
      "metadata": {
        "id": "BMNCpkZ56HU9"
      },
      "outputs": [],
      "source": [
        "import os\n",
        "from langchain.llms import OpenAI\n",
        "from langchain.prompts import PromptTemplate\n",
        "import pdfplumber\n",
        "import pandas as pd"
      ]
    },
    {
      "cell_type": "code",
      "execution_count": 52,
      "metadata": {
        "id": "3abi4W-956--"
      },
      "outputs": [],
      "source": [
        "\n",
        "\n",
        "# # Set up your Azure OpenAI API details\n",
        "# os.environ[\"OPENAI_API_KEY\"] = \"YOUR_AZURE_OPENAI_API_KEY\"\n",
        "# api_base = \"https://YOUR_RESOURCE_NAME.openai.azure.com/\"\n",
        "# api_version = \"2023-03-15-preview\"\n",
        "# model_name = \"gpt-4\"  # Replace with your deployed GPT-4 model name\n",
        "\n",
        "llm2 = AzureChatOpenAI(\n",
        "    api_key=AZURE_OPENAI_API_KEY  ,\n",
        "    api_version=api_version,\n",
        "    azure_endpoint = AZURE_ENDPOINT\n",
        "    )\n"
      ]
    },
    {
      "cell_type": "code",
      "execution_count": null,
      "metadata": {
        "id": "bFCE_ZWTaIWv"
      },
      "outputs": [],
      "source": []
    },
    {
      "cell_type": "code",
      "execution_count": null,
      "metadata": {
        "id": "ARUKcIekaITf"
      },
      "outputs": [],
      "source": []
    },
    {
      "cell_type": "markdown",
      "metadata": {
        "id": "AqQQkKcuaHHg"
      },
      "source": []
    },
    {
      "cell_type": "markdown",
      "metadata": {
        "id": "XU4e5Jn9aHEP"
      },
      "source": []
    },
    {
      "cell_type": "code",
      "execution_count": 85,
      "metadata": {
        "id": "j5iSph4oZrNo"
      },
      "outputs": [],
      "source": [
        "from langchain.prompts import PromptTemplate\n",
        "\n",
        "\n",
        "# Prompts with templates\n",
        "template_data_extraction_prompt = PromptTemplate(\n",
        "    input_variables=[\"pdf_content\"],\n",
        "    template=\"\"\"\n",
        "You are a specialized AI assistant assigned to identify and list specific data points required to complete a section of a Business Responsibility and Sustainability Report (BRSR) template.\n",
        "Based on the following PDF content, focus on identifying only the essential data items necessary for precise and accurate completion of the template.\n",
        "Please avoid making assumptions or including irrelevant data points in your response. List each required data point concisely and unambiguously to ensure clarity.\n",
        "\n",
        "PDF Content:\n",
        "{pdf_content}\n",
        "\"\"\"\n",
        ")\n",
        "\n",
        "\n",
        "\n",
        "report_part_writing_prompt = PromptTemplate(\n",
        "    input_variables=[\"data\"],\n",
        "    template=\"\"\"\n",
        "You are an AI assistant tasked with replacing the data in last year's section C,\n",
        " principle 6 of a Business Responsibility and Sustainability Report (BRSR) with current data.\n",
        "  The data provided: {data}.\n",
        "  output a last year's section with updated data values.\n",
        "  If data is given for some field, use updated data.\n",
        "  If data isn't given, write \"not available\"\n",
        "\n",
        "  Last year's sections : {last_year_section}\n",
        "\"\"\"\n",
        ")\n",
        "\n",
        "paraphrase_text_part = PromptTemplate(\n",
        "    input_variables=[\"text\", \"message\", \"report\"],\n",
        "    template=\"\"\"\n",
        "You are an AI assistant assigned to paraphrase part of reports, given context : {report},\n",
        "1. Find {text} in it and\n",
        "2. Paraphrase it given user's message : {message}\n",
        "\n",
        "The final output should be paraphrased text based on given user's message .\n",
        "\"\"\"\n",
        ")"
      ]
    },
    {
      "cell_type": "code",
      "execution_count": 96,
      "metadata": {
        "id": "07_LrmY75mim"
      },
      "outputs": [],
      "source": [
        "\n",
        "\n",
        "import pdfplumber\n",
        "import re\n",
        "\n",
        "def extract_text_from_pdf(file_path):\n",
        "    with pdfplumber.open(file_path) as pdf:\n",
        "        text = \"\"\n",
        "        for page in pdf.pages:\n",
        "            text += page.extract_text()\n",
        "        return text\n",
        "\n",
        "\n",
        "\n",
        "# Function to call Azure OpenAI with each prompt type\n",
        "def run_template_data_extraction(file_path):\n",
        "    try:\n",
        "        pdf_content = extract_text_from_pdf(file_path)\n",
        "        prompt = template_data_extraction_prompt.format(pdf_content=pdf_content)\n",
        "        response = llm2.invoke(prompt)\n",
        "        return response.content, pdf_content\n",
        "    except Exception as e:\n",
        "        return f\"Error: {e}\", pdf_content\n",
        "\n",
        "def run_csv_data_extraction(all_questions):\n",
        "    try:\n",
        "\n",
        "        response = pandas_df_agent.invoke(f\"\"\"{all_questions}\"\"\")\n",
        "\n",
        "        return response['output']\n",
        "    except Exception as e:\n",
        "        return f\"Error: {e}\"\n",
        "\n",
        "def extract_questions(template_data_response):\n",
        "    result = qae_llm.invoke(\"Convert it into list of questions from all the points and subpoints in \"+template_data_response)\n",
        "    all_question = \"\"\n",
        "    for qa in result.questions_answers:\n",
        "        all_question += qa.question + \"\\n\"\n",
        "    return all_question\n",
        "\n",
        "\n",
        "def run_report_part_writing(data, last_year_section):\n",
        "    prompt = report_part_writing_prompt.format(data=data, last_year_section=last_year_section)\n",
        "    try:\n",
        "        response = llm2.invoke(prompt)\n",
        "        return response.content\n",
        "    except Exception as e:\n",
        "        return f\"Error: {e}\"\n",
        "\n",
        "\n",
        "\n"
      ]
    },
    {
      "cell_type": "code",
      "execution_count": 88,
      "metadata": {
        "id": "mgMdk2Jy5orX"
      },
      "outputs": [],
      "source": [
        "# Example usage\n",
        "template_data_response, pdf_content = run_template_data_extraction(\"/content/principle6-sectionC.pdf\")\n"
      ]
    },
    {
      "cell_type": "code",
      "source": [
        "questions = extract_questions(template_data_response)"
      ],
      "metadata": {
        "id": "HTy6nNqhooeR"
      },
      "execution_count": 97,
      "outputs": []
    },
    {
      "cell_type": "code",
      "source": [
        "print(questions)"
      ],
      "metadata": {
        "colab": {
          "base_uri": "https://localhost:8080/"
        },
        "id": "1j7T35OmrbS_",
        "outputId": "56baa713-50c5-4af7-9b03-980e2ea1bb3a"
      },
      "execution_count": 98,
      "outputs": [
        {
          "output_type": "stream",
          "name": "stdout",
          "text": [
            "What was the total electricity consumption for FY 2022-23?\n",
            "What was the total fuel consumption for FY 2022-23?\n",
            "What was the energy consumption through steam for FY 2022-23?\n",
            "What was the total energy consumption for FY 2022-23?\n",
            "What was the energy intensity per rupee of turnover for FY 2022-23?\n",
            "What was the water withdrawal by surface water for FY 2022-23?\n",
            "What was the water withdrawal by groundwater for FY 2022-23?\n",
            "What was the water withdrawal by third-party water for FY 2022-23?\n",
            "What was the water withdrawal by seawater/desalinated water for FY 2022-23?\n",
            "What was the total volume of water withdrawal for FY 2022-23?\n",
            "What was the total volume of water consumption for FY 2022-23?\n",
            "What was the water intensity per rupee of turnover for FY 2022-23?\n",
            "What were the NOx air emissions for FY 2022-23?\n",
            "What were the SOx air emissions for FY 2022-23?\n",
            "What was the particulate matter air emissions for FY 2022-23?\n",
            "What was the total Scope 1 emissions for FY 2022-23?\n",
            "What was the total Scope 2 emissions for FY 2022-23?\n",
            "What was the total Scope 1 and Scope 2 emissions per rupee of turnover for FY 2022-23?\n",
            "What was the total waste generated for FY 2022-23?\n",
            "What was the waste generated per rupee of turnover for FY 2022-23?\n",
            "What was the total hazardous waste recycled for FY 2022-23?\n",
            "What was the total non-hazardous waste recycled for FY 2022-23?\n",
            "What was the total e-waste recycled for FY 2022-23?\n",
            "What was the total water discharged for FY 2022-23?\n",
            "What was the water discharged per rupee of turnover for FY 2022-23?\n",
            "Has the entity implemented a mechanism for Zero Liquid Discharge?\n",
            "Is there compliance with environmental laws and regulations?\n",
            "What are the details of projects aimed at reducing GHG emissions?\n",
            "What are the details of operations in ecologically sensitive areas?\n",
            "What is the location of operations in ecologically sensitive areas?\n",
            "Is there compliance with environmental approval conditions in ecologically sensitive areas?\n",
            "\n"
          ]
        }
      ]
    },
    {
      "cell_type": "code",
      "source": [
        "data = run_csv_data_extraction(questions)"
      ],
      "metadata": {
        "colab": {
          "base_uri": "https://localhost:8080/"
        },
        "collapsed": true,
        "id": "gz-aTt-ApBsl",
        "outputId": "9d411d12-d33a-4091-ed07-76f5dd64b6cb"
      },
      "execution_count": 99,
      "outputs": [
        {
          "output_type": "stream",
          "name": "stdout",
          "text": [
            "\n",
            "\n",
            "\u001b[1m> Entering new AgentExecutor chain...\u001b[0m\n",
            "\u001b[32;1m\u001b[1;3m\n",
            "Invoking: `python_repl_ast` with `{'query': \"# Filtering the relevant categories for the given questions\\n# Assuming categories like 'Electricity', 'Fuel', 'Water Withdrawal', etc. are represented in the 'Category' column\\n# Define the categories of interest\\ncategories_of_interest = [\\n    'Electricity purchase',\\n    'Stationary combustion',\\n    'Water withdrawal',\\n    'Waste',\\n    'Air emissions',\\n    'Energy'\\n]\\n\\n# Filter the dataframe based on the categories\\nfiltered_df = df[df['Category'].isin(categories_of_interest)]\\n\\n# Display the filtered dataframe to understand its structure and the available data\\nfiltered_df.head()\"}`\n",
            "responded: To answer your questions regarding various environmental metrics for FY 2022-23 from the dataframe, we will need to filter and aggregate the data accordingly. \n",
            "\n",
            "Let's start by focusing on the relevant metrics from the dataframe. I will extract totals for electricity consumption, fuel consumption, and other specified metrics. \n",
            "\n",
            "I'll execute the necessary operations to derive the required totals and metrics. \n",
            "\n",
            "Let's begin with the extraction of relevant data.\n",
            "\n",
            "\u001b[0m\u001b[36;1m\u001b[1;3m     Scope   Location               Category BRSR_Category  \\\n",
            "0   Scope1  New Delhi  Stationary combustion        Energy   \n",
            "1   Scope1  New Delhi  Stationary combustion        Energy   \n",
            "3   Scope2  New Delhi   Electricity purchase        Energy   \n",
            "4   Scope2  New Delhi   Electricity purchase        Energy   \n",
            "30  Scope1    Chennai  Stationary combustion        Energy   \n",
            "\n",
            "                                    Type  Year      Jan      Feb      Mar  \\\n",
            "0                              Green Gas  2023     52.0     52.0     52.0   \n",
            "1                            Natural gas  2023  22182.0  22886.0  20800.0   \n",
            "3   Purchased electricity (market-based)  2023  34848.0  38192.0  36185.0   \n",
            "4             Purchased district heating  2023   2698.0   2611.0   2690.0   \n",
            "30                             Green Gas  2023     79.0     59.0     53.0   \n",
            "\n",
            "        Apr      May      Jun      Jul      Aug      Sep      Oct      Nov  \\\n",
            "0      50.0     72.0     66.0     58.0     69.0     58.0     57.0     57.0   \n",
            "1   22268.0  24320.0  20968.0  22533.0  23052.0  20742.0  20637.0  22598.0   \n",
            "3   32756.0  37016.0  35059.0  34145.0  37211.0  34389.0  34146.0  37601.0   \n",
            "4    2800.0   2587.0   2694.0   2645.0   2610.0   2704.0   2637.0   2607.0   \n",
            "30     75.0     71.0     54.0     69.0     67.0    665.0     56.0     62.0   \n",
            "\n",
            "        Dec  Total_Value Unit Source  Total_Emission  Emission factor  \\\n",
            "0      54.0        697.0   GJ    NaN        0.074056          0.10625   \n",
            "1   20071.0     263057.0  kWh    NaN       48.181520          0.18316   \n",
            "3   37847.0     429395.0  kWh    NaN       91.173440          0.21233   \n",
            "4    2695.0      31978.0  kWh    NaN        8.100987          0.25333   \n",
            "30     68.0       1378.0   GJ    NaN        0.146413          0.10625   \n",
            "\n",
            "   Unit (Emission factor)  \n",
            "0               kgCO2e/GJ  \n",
            "1              kgCO2e/kWh  \n",
            "3              kgCO2e/kwh  \n",
            "4              kgCO2e/kwh  \n",
            "30              kgCO2e/GJ  \u001b[0m\u001b[32;1m\u001b[1;3m\n",
            "Invoking: `python_repl_ast` with `{'query': \"# Total electricity consumption\\n# Filtering for electricity purchase\\nelectricity_consumption = filtered_df[filtered_df['Category'] == 'Electricity purchase']['Total_Value'].sum()\\n\\n# Total fuel consumption\\n# Assuming fuel consumption is under 'Stationary combustion' category\\nfuel_consumption = filtered_df[filtered_df['Category'] == 'Stationary combustion']['Total_Value'].sum()\\n\\n# Display both results\\n(electricity_consumption, fuel_consumption)\"}`\n",
            "responded: The filtered dataframe contains relevant categories such as \"Electricity purchase\", \"Stationary combustion\", and \"Water withdrawal\". Now, I will proceed to calculate the totals for the following metrics for FY 2022-23:\n",
            "\n",
            "1. Total electricity consumption\n",
            "2. Total fuel consumption\n",
            "3. Total energy consumption through steam (if applicable)\n",
            "4. Total energy consumption\n",
            "5. Water withdrawal by surface water, groundwater, third-party water, and seawater/desalinated water\n",
            "6. Total volume of water withdrawal and consumption\n",
            "7. Water intensity per rupee of turnover\n",
            "8. NOx, SOx, and particulate matter air emissions\n",
            "9. Total Scope 1 and Scope 2 emissions\n",
            "10. Total waste generated and waste generated per rupee of turnover\n",
            "11. Total hazardous and non-hazardous waste recycled\n",
            "12. Total water discharged and water discharged per rupee of turnover\n",
            "\n",
            "Let's begin by calculating the total electricity consumption and total fuel consumption.\n",
            "\n",
            "\u001b[0m\u001b[36;1m\u001b[1;3m(5393355.0, 3186059.0)\u001b[0m\u001b[32;1m\u001b[1;3m\n",
            "Invoking: `python_repl_ast` with `{'query': \"# Total energy consumption\\n# Assuming energy consumption is represented by the sum of all relevant categories\\nenergy_consumption = filtered_df['Total_Value'].sum()\\n\\n# Water withdrawal by different sources\\n# Assuming specific categories represent these withdrawals\\nwater_withdrawal_surface = filtered_df[filtered_df['Category'].str.contains('surface water', case=False, na=False)]['Total_Value'].sum()\\nwater_withdrawal_groundwater = filtered_df[filtered_df['Category'].str.contains('groundwater', case=False, na=False)]['Total_Value'].sum()\\nwater_withdrawal_third_party = filtered_df[filtered_df['Category'].str.contains('third-party', case=False, na=False)]['Total_Value'].sum()\\nwater_withdrawal_seawater = filtered_df[filtered_df['Category'].str.contains('seawater', case=False, na=False)]['Total_Value'].sum()\\n\\n# Total volume of water withdrawal\\ntotal_water_withdrawal = water_withdrawal_surface + water_withdrawal_groundwater + water_withdrawal_third_party + water_withdrawal_seawater\\n\\n# Total volume of water consumption (assuming it is in the same dataframe)\\n# This would typically be a separate category but we'll sum it if applicable\\nwater_consumption = filtered_df[filtered_df['Category'].str.contains('water consumption', case=False, na=False)]['Total_Value'].sum()\\n\\n# Total Scope 1 and Scope 2 emissions\\nscope1_emissions = filtered_df[filtered_df['Scope'] == 'Scope1']['Total_Emission'].sum()\\nscope2_emissions = filtered_df[filtered_df['Scope'] == 'Scope2']['Total_Emission'].sum()\\n\\n# Total waste generated and waste recycled (assuming categories)\\n# Assuming categories for waste are also in the dataframe\\n# For now, just summing as an example\\nwaste_generated = filtered_df[filtered_df['Category'].str.contains('waste', case=False, na=False)]['Total_Value'].sum()\\n\\n# Display results\\n(\\n    energy_consumption,\\n    water_withdrawal_surface,\\n    water_withdrawal_groundwater,\\n    water_withdrawal_third_party,\\n    water_withdrawal_seawater,\\n    total_water_withdrawal,\\n    water_consumption,\\n    scope1_emissions,\\n    scope2_emissions,\\n    waste_generated\\n)\"}`\n",
            "responded: The totals for FY 2022-23 are as follows:\n",
            "\n",
            "1. **Total Electricity Consumption**: 5,393,355 kWh\n",
            "2. **Total Fuel Consumption**: 3,186,059 GJ\n",
            "\n",
            "Next, I will calculate the total energy consumption (including through steam if specified), and the other relevant metrics like water withdrawal, emissions, and waste. Let's continue with those calculations.\n",
            "\n",
            "\u001b[0m\u001b[36;1m\u001b[1;3m(8579414.0, 0.0, 0.0, 0.0, 0.0, 0.0, 0.0, 582.82492195, 1160.91047515, 0.0)\u001b[0m\u001b[32;1m\u001b[1;3m\n",
            "Invoking: `python_repl_ast` with `{'query': \"# Water intensity per rupee of turnover\\n# Assuming turnover data is available in a specific column, let's say 'Turnover'\\n# For now, I'll just use a placeholder value for turnover as it's not in the current data\\nplaceholder_turnover = 10000000  # Example turnover value\\nwater_intensity = total_water_withdrawal / placeholder_turnover if placeholder_turnover else 0\\n\\n# NOx, SOx, and particulate matter emissions (assuming they are part of the emissions data)\\n# We'll check for specific categories if they exist\\nnox_emissions = filtered_df[filtered_df['Category'].str.contains('NOx', case=False, na=False)]['Total_Emission'].sum()\\nsox_emissions = filtered_df[filtered_df['Category'].str.contains('SOx', case=False, na=False)]['Total_Emission'].sum()\\nparticulate_emissions = filtered_df[filtered_df['Category'].str.contains('particulate', case=False, na=False)]['Total_Emission'].sum()\\n\\n# Total waste recycled (assuming categories exist)\\nhazardous_waste_recycled = filtered_df[filtered_df['Category'].str.contains('hazardous waste', case=False, na=False)]['Total_Value'].sum()\\nnon_hazardous_waste_recycled = filtered_df[filtered_df['Category'].str.contains('non-hazardous waste', case=False, na=False)]['Total_Value'].sum()\\n\\ndischarge_water = filtered_df[filtered_df['Category'].str.contains('discharge', case=False, na=False)]['Total_Value'].sum()\\n\\n# Display results\\n(\\n    water_intensity,\\n    nox_emissions,\\n    sox_emissions,\\n    particulate_emissions,\\n    hazardous_waste_recycled,\\n    non_hazardous_waste_recycled,\\n    discharge_water\\n)\"}`\n",
            "responded: The results for FY 2022-23 are as follows:\n",
            "\n",
            "3. **Total Energy Consumption**: 8,579,414 GJ\n",
            "4. **Total Water Withdrawal by Surface Water**: 0 (not available in the data)\n",
            "5. **Total Water Withdrawal by Groundwater**: 0 (not available in the data)\n",
            "6. **Total Water Withdrawal by Third-party Water**: 0 (not available in the data)\n",
            "7. **Total Water Withdrawal by Seawater/Desalinated Water**: 0 (not available in the data)\n",
            "8. **Total Volume of Water Withdrawal**: 0\n",
            "9. **Total Volume of Water Consumption**: 0 (not explicitly available in the data)\n",
            "10. **Total Scope 1 Emissions**: 582.82 kg CO2e\n",
            "11. **Total Scope 2 Emissions**: 1160.91 kg CO2e\n",
            "12. **Total Waste Generated**: 0 (not available in the data)\n",
            "\n",
            "Next, let’s calculate the water intensity, air emissions, and waste metrics. I'll also check if there are any additional relevant metrics regarding water discharged and waste recycled.\n",
            "\n",
            "\u001b[0m\u001b[36;1m\u001b[1;3m(0.0, 0.0, 0.0, 0.0, 0.0, 0.0, 0.0)\u001b[0m\u001b[32;1m\u001b[1;3m\n",
            "Invoking: `python_repl_ast` with `{'query': \"# Checking for more specific entries in the dataframe that may indicate compliance, projects, or additional metrics\\n# Displaying the unique values in the 'Category' column to understand available data\\nunique_categories = df['Category'].unique()\\nunique_categories\"}`\n",
            "responded: The additional results for FY 2022-23 are as follows:\n",
            "\n",
            "13. **Water Intensity per Rupee of Turnover**: 0 (due to lack of water withdrawal data)\n",
            "14. **NOx Air Emissions**: 0 (not available in the data)\n",
            "15. **SOx Air Emissions**: 0 (not available in the data)\n",
            "16. **Particulate Matter Air Emissions**: 0 (not available in the data)\n",
            "17. **Total Hazardous Waste Recycled**: 0 (not available in the data)\n",
            "18. **Total Non-Hazardous Waste Recycled**: 0 (not available in the data)\n",
            "19. **Total Water Discharged**: 0 (not available in the data)\n",
            "\n",
            "Next, I will check if the dataframe contains any information regarding water discharged, waste generated, compliance with environmental regulations, and any mechanisms for Zero Liquid Discharge. I will also look for any specific projects aimed at reducing GHG emissions. Let's explore this further.\n",
            "\n",
            "\u001b[0m\u001b[36;1m\u001b[1;3m['Stationary combustion' 'Refrigerants' 'Electricity purchase'\n",
            " 'Business travel' 'Employee commute' 'Work from home'\n",
            " 'Work from home Equipment' 'Waste emissions' 'Purchased goods & services'\n",
            " 'Electricity losses' 'Upstream Transportation']\u001b[0m\u001b[32;1m\u001b[1;3mThe unique categories in the dataframe include:\n",
            "\n",
            "- Stationary combustion\n",
            "- Refrigerants\n",
            "- Electricity purchase\n",
            "- Business travel\n",
            "- Employee commute\n",
            "- Work from home\n",
            "- Work from home Equipment\n",
            "- Waste emissions\n",
            "- Purchased goods & services\n",
            "- Electricity losses\n",
            "- Upstream Transportation\n",
            "\n",
            "It appears that the dataframe does not contain specific entries related to water discharge, waste management, compliance with environmental laws, or projects aimed at reducing GHG emissions. \n",
            "\n",
            "### Summary of Results for FY 2022-23:\n",
            "1. **Total Electricity Consumption**: 5,393,355 kWh\n",
            "2. **Total Fuel Consumption**: 3,186,059 GJ\n",
            "3. **Total Energy Consumption**: 8,579,414 GJ\n",
            "4. **Total Water Withdrawal**: 0\n",
            "5. **Total Volume of Water Consumption**: 0\n",
            "6. **Total Scope 1 Emissions**: 582.82 kg CO2e\n",
            "7. **Total Scope 2 Emissions**: 1160.91 kg CO2e\n",
            "8. **Water Intensity per Rupee of Turnover**: 0\n",
            "9. **NOx Air Emissions**: 0\n",
            "10. **SOx Air Emissions**: 0\n",
            "11. **Particulate Matter Air Emissions**: 0\n",
            "12. **Total Hazardous Waste Recycled**: 0\n",
            "13. **Total Non-Hazardous Waste Recycled**: 0\n",
            "14. **Total Water Discharged**: 0\n",
            "\n",
            "### Recommendations:\n",
            "- It may be useful to check other data sources or reports for more comprehensive environmental metrics, especially those related to water usage and emissions.\n",
            "\n",
            "If you have further questions or specific areas you would like to explore, please let me know!\u001b[0m\n",
            "\n",
            "\u001b[1m> Finished chain.\u001b[0m\n"
          ]
        }
      ]
    },
    {
      "cell_type": "code",
      "source": [
        "report = run_report_part_writing(data, pdf_content)"
      ],
      "metadata": {
        "id": "uCLOQL-TpGna"
      },
      "execution_count": 100,
      "outputs": []
    },
    {
      "cell_type": "code",
      "execution_count": 101,
      "metadata": {
        "colab": {
          "base_uri": "https://localhost:8080/"
        },
        "collapsed": true,
        "id": "tIN48_a2_bUg",
        "outputId": "c2160dea-ca8e-48f6-a765-1f6d23c2d703"
      },
      "outputs": [
        {
          "output_type": "stream",
          "name": "stdout",
          "text": [
            "### Sun Pharmaceutical Industries Limited Annual Report 2022-23\n",
            "**Environment**  \n",
            "**Principle 6: Businesses should respect and make efforts to protect and restore the environment**  \n",
            "\n",
            "**Essential Indicators**\n",
            "\n",
            "1. **Details of total energy consumption (in Joules or multiples) and energy intensity:**\n",
            "\n",
            "| Parameter                                                      | FY 2022-23     | FY 2021-22     |\n",
            "|---------------------------------------------------------------|----------------|----------------|\n",
            "| Total electricity consumption (A)                             | 5,393,355 kWh  | 1,464,919 GJ   |\n",
            "| Total fuel consumption (B)                                    | 3,186,059 GJ   | 1,040,498 GJ   |\n",
            "| Energy consumption through other sources - Steam (C)         | not available   | 771,969 GJ     |\n",
            "| Total energy consumption (A+B+C)                             | 8,579,414 GJ   | 3,277,386 GJ   |\n",
            "| Energy intensity per rupee of turnover (Total energy consumption / turnover in ₹ Million) | not available   | 21.1           |\n",
            "\n",
            "2. **Does the entity have any sites/facilities identified as designated consumers (DCs) under the Performance, Achieve and Trade (PAT) Scheme of the Government of India? (Y/N)**  \n",
            "   No, the Company is not identified as a designated consumer under the Performance Achieve and Trade (PAT) Scheme of the Government of India.\n",
            "\n",
            "3. **Provide details of the following disclosures related to water, in the following format:**\n",
            "\n",
            "| Parameter                                           | FY 2022-23 | FY 2021-22   |\n",
            "|----------------------------------------------------|-------------|--------------|\n",
            "| Water withdrawal by source (in kilolitres)         |             |              |\n",
            "| (i) Surface water                                   | not available | 583,455      |\n",
            "| (ii) Groundwater                                    | not available | 809,849      |\n",
            "| (iii) Third party water                             | not available | 906,185      |\n",
            "| (iv) Seawater / Desalinated Water                  | 0           | 0            |\n",
            "| (v) Others                                          | not available | not available |\n",
            "| **Total volume of water withdrawal (in kilolitres)** | 0           | 2,299,489    |\n",
            "| **Total volume of water consumption (in kilolitres)** | 0           | 2,209,014    |\n",
            "| Water intensity per rupee of turnover (Water consumed / turnover in ₹ Million) | 0           | 14           |\n",
            "\n",
            "4. **Has the entity implemented a mechanism for Zero Liquid Discharge? If yes, provide details of its coverage and implementation.**  \n",
            "   Yes. Within the Company’s manufacturing facilities, 15 manufacturing and R&D locations are Zero Liquid Discharge (ZLD). The company has adopted a strategy to reduce, reuse, recycle, and recharge to conserve water. Process and domestic wastewater is treated in a facility consisting of primary, secondary, and tertiary treatment with membrane filtration (UF/RO). Treated process wastewater is recycled in utilities as boiler feed and cooling tower makeup water. Domestic wastewater is treated and used for gardening and flushing.\n",
            "\n",
            "5. **Please provide details of air emissions (other than GHG emissions) by the entity, in the following format:**\n",
            "\n",
            "| Parameter                        | Unit  | FY 2022-23 | FY 2021-22* |\n",
            "|----------------------------------|-------|------------|-------------|\n",
            "| NOx                              | MT    | 0          | 166         |\n",
            "| SOx                              | MT    | 0          | 150         |\n",
            "| Particulate matter (PM)         | MT    | 0          | 214         |\n",
            "| Persistent organic pollutants (POP) | -   | not available | not available |\n",
            "| Volatile organic compounds (VOC) | -     | not available | not available |\n",
            "| Hazardous air pollutants (HAP)   | -     | not available | not available |\n",
            "| Others – please specify          | -     | not available | not available |\n",
            "\n",
            "6. **Provide details of greenhouse gas emissions (Scope 1 and Scope 2 emissions) & its intensity, in the following format:**\n",
            "\n",
            "| Parameter                                                           | Unit                                     | FY 2022-23 | FY 2021-22 |\n",
            "|---------------------------------------------------------------------|------------------------------------------|------------|------------|\n",
            "| Total Scope 1 emissions (Break-up of the GHG into CO, CH4, N2O,   | Metric tonnes of CO2 eq.                | 582.82     | 47,743     |\n",
            "| NOx, HFCs, PFCs, SF6, NF3, if available)                           |                                          |            |            |\n",
            "| Total Scope 2 emissions (Break-up of the GHG into CO, CH4, N2O,   | Metric tonnes of CO2 eq.                | 1160.91    | 254,394**  |\n",
            "| NOx, HFCs, PFCs, SF6, NF3, if available)                           |                                          |            |            |\n",
            "| Total Scope 1 and Scope 2 emissions per rupee of turnover          | Metric tonnes of CO2 eq./ ₹ Million      | not available | 1.95       |\n",
            "\n",
            "7. **Does the entity have any project related to reducing Greenhouse Gas emission? If Yes, then provide details.**  \n",
            "   The Company is committed to continuously improving energy performance and conserving energy in its various operations along with reducing GHG emissions. Major projects related to reducing GHG emissions are listed below:\n",
            "   - Installation of Hybrid (Wind + Solar) power plant to meet partial power requirement for Gujarat sites.\n",
            "   - Motion sensor for lighting load optimisation.\n",
            "   - Old motors are replaced with energy-efficient motors.\n",
            "   - Solar rooftop installation at Halol Site.\n",
            "   - Demand side air management for reducing power consumption in air compressors.\n",
            "   - Energy-efficient chiller installed at Mohali plant to improve Kw/TR.\n",
            "   - Replacement of old pump with energy-efficient pump.\n",
            "   - Utilisation of heat pump for hot water generator and in cooling towers.\n",
            "   - AHU automation for power reduction.\n",
            "   - Installation of energy-efficient blower for HVAC system.\n",
            "   - Flash steam recovery system installed to recover waste heat.\n",
            "   - Installation of VFD in various motors including chiller compressor, pumps.\n",
            "\n",
            "8. **Provide details related to waste management by the entity:**\n",
            "\n",
            "| Parameter                                           | FY 2022-23 | FY 2021-22   |\n",
            "|----------------------------------------------------|-------------|--------------|\n",
            "| Total Waste generated (in metric tonnes)           |             |              |\n",
            "| Plastic waste (A)                                  | not available | 831          |\n",
            "| E-waste (B)                                       | not available | 3            |\n",
            "| Bio-medical waste (C)                              | not available | 43           |\n",
            "| Construction and demolition waste (D)              | 0           | 0            |\n",
            "| Battery waste (E)                                  | not available | 59           |\n",
            "| Other Hazardous waste (G)                           | 25,684      | 23,081*      |\n",
            "| Other Non-hazardous waste generated (H)            | 16,410      | 16,373*      |\n",
            "| Total (A + B + C + D + E + F + G + H)             | 43,231      | 40,390       |\n",
            "| Waste generated per rupee of turnover              | 0.21        | 0.26         |\n",
            "\n",
            "9. **Briefly describe the waste management practices adopted in your establishments.**  \n",
            "   The Company’s waste management plan includes a strategy for waste minimisation, segregation, and safe disposal. The Company has implemented several measures to reduce manufacturing rejects aligned with its resource optimisation and waste minimisation objectives. The Company complies with the requirements of Extended Producer Responsibility (EPR) by collecting end-of-use plastic and improving its management of plastic waste. Additionally, the Company has adopted initiatives to divert greater amounts of hazardous waste toward co-processing and recycling over other disposal mechanisms, such as burning and landfilling, as part of the hazardous waste disposal mechanism. Furthermore, the Company has embraced digitalisation to reduce paper consumption.\n",
            "\n",
            "10. **If the entity has operations/offices in/around ecologically sensitive areas, please specify details.**  \n",
            "    The Company has one of its manufacturing locations located in an ecologically sensitive area.\n",
            "    \n",
            "| Type of operations/offices | Location of operations/offices  | Whether the conditions of environmental approval / clearance are being complied with? (Y/N) | If no, the reasons thereof and corrective action taken, if any. |\n",
            "|----------------------------|----------------------------------|----------------------------------------------------------------------------------------------|-----------------------------------------------------------------|\n",
            "| Manufacturing              | Maduranthakam                    | Y                                                                                            | The facility has the “consent to operate” from the concerned Pollution Control Board. |\n",
            "\n",
            "11. **Details of environmental impact assessments of projects undertaken by the entity based on applicable laws, in the current financial year:**  \n",
            "    The Company has not undertaken any Environmental Impact Assessments in the reporting year.\n",
            "\n",
            "12. **Is the entity compliant with the applicable environmental law/regulations/guidelines in India? (Y/N)**  \n",
            "    Yes, the Company is compliant with applicable environmental laws.\n",
            "\n",
            "**Leadership Indicators**\n",
            "\n",
            "1. **Provide break-up of the total energy consumed (in Joules or multiples) from renewable and non-renewable sources:**\n",
            "\n",
            "| Parameter                                                      | FY 2022-23     | FY 2021-22     |\n",
            "|---------------------------------------------------------------|----------------|----------------|\n",
            "| From Renewable Sources                                         |                |                |\n",
            "| Total electricity consumption (A)                             | not available   | 156,605 GJ     |\n",
            "| Total fuel consumption (B)                                    | not available   | 357,123 GJ     |\n",
            "| Energy consumption through other sources (C)                 | not available   | 771,969 GJ     |\n",
            "| Total energy consumed from renewable sources (A+B+C)         | not available   | 1,285,697 GJ   |\n",
            "| Percentage of total energy from renewable sources              | not available   | 39.2%          |\n",
            "\n",
            "2. **Provide the following details related to water discharged:**\n",
            "\n",
            "| Parameter                                           | FY 2022-23 | FY 2021-22   |\n",
            "|----------------------------------------------------|-------------|--------------|\n",
            "| Water discharge by designation and level of treatment (in kilolitres) |             |              |\n",
            "| (i) To Surface water                               | 0           | 0            |\n",
            "| (ii) To Groundwater                                | 0           | 0            |\n",
            "| (iii) To Seawater                                  | 0           | 0            |\n",
            "| (iv) Sent to third parties                        | 119,147     | 90,475       |\n",
            "| Total water discharged (in kilolitres)            | 119,147     | 90,475       |\n",
            "\n",
            "3. **Water withdrawal, consumption and discharge in areas of water stress (in kilolitres):**\n",
            "\n",
            "| Parameter                                           | FY 2022-23 | FY 2021-22   |\n",
            "|----------------------------------------------------|-------------|--------------|\n",
            "| Water withdrawal by source (in kilolitres)         |             |              |\n",
            "| (i) Surface water                                   | 7,200       | 7,200*       |\n",
            "| (ii) Groundwater                                    | 447,394     | 497,240*     |\n",
            "| (iii) Third party water                             | 53,998      | 51,717*      |\n",
            "| Total volume of water withdrawal (in kilolitres)   | 508,592     | 556,157*     |\n",
            "| Total volume of water consumption (in kilolitres)   | 502,284     | 551,733*     |\n",
            "\n",
            "4. **With respect to the ecologically sensitive areas reported at Question 10 of Essential Indicators above, provide details of significant direct & indirect impact of the entity on biodiversity in such areas along-with prevention and remediation activities.**  \n",
            "    The manufacturing facility, Maduranthakam, is located 3.72 km (West) from the Vedanthangal Bird Sanctuary. The facility was functional before the declaration of Vedanthangal Bird Sanctuary in 1998. The facility has no significant direct or indirect impact on the environment. Additionally, the Consent to Operate by the relevant Pollution Control Board has also been obtained. It is a Zero Liquid Discharge (ZLD) site, equipped with an effluent treatment facility to further direct the treated wastewater for in-house uses.  \n",
            "\n",
            "*Revised figure for past year.\n"
          ]
        }
      ],
      "source": [
        "print(report)"
      ]
    },
    {
      "cell_type": "code",
      "execution_count": null,
      "metadata": {
        "id": "1ja5czGqDuwA"
      },
      "outputs": [],
      "source": []
    },
    {
      "cell_type": "markdown",
      "metadata": {
        "id": "KPbthuhxz82N"
      },
      "source": [
        "### Sun Pharmaceutical Industries Limited Annual Report 2022-23\n",
        "**Environment**  \n",
        "**Principle 6: Businesses should respect and make efforts to protect and restore the environment**  \n",
        "\n",
        "**Essential Indicators**\n",
        "\n",
        "1. **Details of total energy consumption (in Joules or multiples) and energy intensity:**\n",
        "\n",
        "| Parameter                                                      | FY 2022-23     | FY 2021-22     |\n",
        "|---------------------------------------------------------------|----------------|----------------|\n",
        "| Total electricity consumption (A)                             | 5,393,355 kWh  | 1,464,919 GJ   |\n",
        "| Total fuel consumption (B)                                    | 3,186,059 GJ   | 1,040,498 GJ   |\n",
        "| Energy consumption through other sources - Steam (C)         | not available   | 771,969 GJ     |\n",
        "| Total energy consumption (A+B+C)                             | 8,579,414 GJ   | 3,277,386 GJ   |\n",
        "| Energy intensity per rupee of turnover (Total energy consumption / turnover in ₹ Million) | not available   | 21.1           |\n",
        "\n",
        "2. **Does the entity have any sites/facilities identified as designated consumers (DCs) under the Performance, Achieve and Trade (PAT) Scheme of the Government of India? (Y/N)**  \n",
        "   No, the Company is not identified as a designated consumer under the Performance Achieve and Trade (PAT) Scheme of the Government of India.\n",
        "\n",
        "3. **Provide details of the following disclosures related to water, in the following format:**\n",
        "\n",
        "| Parameter                                           | FY 2022-23 | FY 2021-22   |\n",
        "|----------------------------------------------------|-------------|--------------|\n",
        "| Water withdrawal by source (in kilolitres)         |             |              |\n",
        "| (i) Surface water                                   | not available | 583,455      |\n",
        "| (ii) Groundwater                                    | not available | 809,849      |\n",
        "| (iii) Third party water                             | not available | 906,185      |\n",
        "| (iv) Seawater / Desalinated Water                  | 0           | 0            |\n",
        "| (v) Others                                          | not available | not available |\n",
        "| **Total volume of water withdrawal (in kilolitres)** | 0           | 2,299,489    |\n",
        "| **Total volume of water consumption (in kilolitres)** | 0           | 2,209,014    |\n",
        "| Water intensity per rupee of turnover (Water consumed / turnover in ₹ Million) | 0           | 14           |\n",
        "\n",
        "4. **Has the entity implemented a mechanism for Zero Liquid Discharge? If yes, provide details of its coverage and implementation.**  \n",
        "   Yes. Within the Company’s manufacturing facilities, 15 manufacturing and R&D locations are Zero Liquid Discharge (ZLD). The company has adopted a strategy to reduce, reuse, recycle, and recharge to conserve water. Process and domestic wastewater is treated in a facility consisting of primary, secondary, and tertiary treatment with membrane filtration (UF/RO). Treated process wastewater is recycled in utilities as boiler feed and cooling tower makeup water. Domestic wastewater is treated and used for gardening and flushing.\n",
        "\n",
        "5. **Please provide details of air emissions (other than GHG emissions) by the entity, in the following format:**\n",
        "\n",
        "| Parameter                        | Unit  | FY 2022-23 | FY 2021-22* |\n",
        "|----------------------------------|-------|------------|-------------|\n",
        "| NOx                              | MT    | 0          | 166         |\n",
        "| SOx                              | MT    | 0          | 150         |\n",
        "| Particulate matter (PM)         | MT    | 0          | 214         |\n",
        "| Persistent organic pollutants (POP) | -   | not available | not available |\n",
        "| Volatile organic compounds (VOC) | -     | not available | not available |\n",
        "| Hazardous air pollutants (HAP)   | -     | not available | not available |\n",
        "| Others – please specify          | -     | not available | not available |\n",
        "\n",
        "6. **Provide details of greenhouse gas emissions (Scope 1 and Scope 2 emissions) & its intensity, in the following format:**\n",
        "\n",
        "| Parameter                                                           | Unit                                     | FY 2022-23 | FY 2021-22 |\n",
        "|---------------------------------------------------------------------|------------------------------------------|------------|------------|\n",
        "| Total Scope 1 emissions (Break-up of the GHG into CO, CH4, N2O,   | Metric tonnes of CO2 eq.                | 582.82     | 47,743     |\n",
        "| NOx, HFCs, PFCs, SF6, NF3, if available)                           |                                          |            |            |\n",
        "| Total Scope 2 emissions (Break-up of the GHG into CO, CH4, N2O,   | Metric tonnes of CO2 eq.                | 1160.91    | 254,394**  |\n",
        "| NOx, HFCs, PFCs, SF6, NF3, if available)                           |                                          |            |            |\n",
        "| Total Scope 1 and Scope 2 emissions per rupee of turnover          | Metric tonnes of CO2 eq./ ₹ Million      | not available | 1.95       |\n",
        "\n",
        "7. **Does the entity have any project related to reducing Greenhouse Gas emission? If Yes, then provide details.**  \n",
        "   The Company is committed to continuously improving energy performance and conserving energy in its various operations along with reducing GHG emissions. Major projects related to reducing GHG emissions are listed below:\n",
        "   - Installation of Hybrid (Wind + Solar) power plant to meet partial power requirement for Gujarat sites.\n",
        "   - Motion sensor for lighting load optimisation.\n",
        "   - Old motors are replaced with energy-efficient motors.\n",
        "   - Solar rooftop installation at Halol Site.\n",
        "   - Demand side air management for reducing power consumption in air compressors.\n",
        "   - Energy-efficient chiller installed at Mohali plant to improve Kw/TR.\n",
        "   - Replacement of old pump with energy-efficient pump.\n",
        "   - Utilisation of heat pump for hot water generator and in cooling towers.\n",
        "   - AHU automation for power reduction.\n",
        "   - Installation of energy-efficient blower for HVAC system.\n",
        "   - Flash steam recovery system installed to recover waste heat.\n",
        "   - Installation of VFD in various motors including chiller compressor, pumps.\n",
        "\n",
        "8. **Provide details related to waste management by the entity:**\n",
        "\n",
        "| Parameter                                           | FY 2022-23 | FY 2021-22   |\n",
        "|----------------------------------------------------|-------------|--------------|\n",
        "| Total Waste generated (in metric tonnes)           |             |              |\n",
        "| Plastic waste (A)                                  | not available | 831          |\n",
        "| E-waste (B)                                       | not available | 3            |\n",
        "| Bio-medical waste (C)                              | not available | 43           |\n",
        "| Construction and demolition waste (D)              | 0           | 0            |\n",
        "| Battery waste (E)                                  | not available | 59           |\n",
        "| Other Hazardous waste (G)                           | 25,684      | 23,081*      |\n",
        "| Other Non-hazardous waste generated (H)            | 16,410      | 16,373*      |\n",
        "| Total (A + B + C + D + E + F + G + H)             | 43,231      | 40,390       |\n",
        "| Waste generated per rupee of turnover              | 0.21        | 0.26         |\n",
        "\n",
        "9. **Briefly describe the waste management practices adopted in your establishments.**  \n",
        "   The Company’s waste management plan includes a strategy for waste minimisation, segregation, and safe disposal. The Company has implemented several measures to reduce manufacturing rejects aligned with its resource optimisation and waste minimisation objectives. The Company complies with the requirements of Extended Producer Responsibility (EPR) by collecting end-of-use plastic and improving its management of plastic waste. Additionally, the Company has adopted initiatives to divert greater amounts of hazardous waste toward co-processing and recycling over other disposal mechanisms, such as burning and landfilling, as part of the hazardous waste disposal mechanism. Furthermore, the Company has embraced digitalisation to reduce paper consumption.\n",
        "\n",
        "10. **If the entity has operations/offices in/around ecologically sensitive areas, please specify details.**  \n",
        "    The Company has one of its manufacturing locations located in an ecologically sensitive area.\n",
        "    \n",
        "| Type of operations/offices | Location of operations/offices  | Whether the conditions of environmental approval / clearance are being complied with? (Y/N) | If no, the reasons thereof and corrective action taken, if any. |\n",
        "|----------------------------|----------------------------------|----------------------------------------------------------------------------------------------|-----------------------------------------------------------------|\n",
        "| Manufacturing              | Maduranthakam                    | Y                                                                                            | The facility has the “consent to operate” from the concerned Pollution Control Board. |\n",
        "\n",
        "11. **Details of environmental impact assessments of projects undertaken by the entity based on applicable laws, in the current financial year:**  \n",
        "    The Company has not undertaken any Environmental Impact Assessments in the reporting year.\n",
        "\n",
        "12. **Is the entity compliant with the applicable environmental law/regulations/guidelines in India? (Y/N)**  \n",
        "    Yes, the Company is compliant with applicable environmental laws.\n",
        "\n",
        "**Leadership Indicators**\n",
        "\n",
        "1. **Provide break-up of the total energy consumed (in Joules or multiples) from renewable and non-renewable sources:**\n",
        "\n",
        "| Parameter                                                      | FY 2022-23     | FY 2021-22     |\n",
        "|---------------------------------------------------------------|----------------|----------------|\n",
        "| From Renewable Sources                                         |                |                |\n",
        "| Total electricity consumption (A)                             | not available   | 156,605 GJ     |\n",
        "| Total fuel consumption (B)                                    | not available   | 357,123 GJ     |\n",
        "| Energy consumption through other sources (C)                 | not available   | 771,969 GJ     |\n",
        "| Total energy consumed from renewable sources (A+B+C)         | not available   | 1,285,697 GJ   |\n",
        "| Percentage of total energy from renewable sources              | not available   | 39.2%          |\n",
        "\n",
        "2. **Provide the following details related to water discharged:**\n",
        "\n",
        "| Parameter                                           | FY 2022-23 | FY 2021-22   |\n",
        "|----------------------------------------------------|-------------|--------------|\n",
        "| Water discharge by designation and level of treatment (in kilolitres) |             |              |\n",
        "| (i) To Surface water                               | 0           | 0            |\n",
        "| (ii) To Groundwater                                | 0           | 0            |\n",
        "| (iii) To Seawater                                  | 0           | 0            |\n",
        "| (iv) Sent to third parties                        | 119,147     | 90,475       |\n",
        "| Total water discharged (in kilolitres)            | 119,147     | 90,475       |\n",
        "\n",
        "3. **Water withdrawal, consumption and discharge in areas of water stress (in kilolitres):**\n",
        "\n",
        "| Parameter                                           | FY 2022-23 | FY 2021-22   |\n",
        "|----------------------------------------------------|-------------|--------------|\n",
        "| Water withdrawal by source (in kilolitres)         |             |              |\n",
        "| (i) Surface water                                   | 7,200       | 7,200*       |\n",
        "| (ii) Groundwater                                    | 447,394     | 497,240*     |\n",
        "| (iii) Third party water                             | 53,998      | 51,717*      |\n",
        "| Total volume of water withdrawal (in kilolitres)   | 508,592     | 556,157*     |\n",
        "| Total volume of water consumption (in kilolitres)   | 502,284     | 551,733*     |\n",
        "\n",
        "4. **With respect to the ecologically sensitive areas reported at Question 10 of Essential Indicators above, provide details of significant direct & indirect impact of the entity on biodiversity in such areas along-with prevention and remediation activities.**  \n",
        "    The manufacturing facility, Maduranthakam, is located 3.72 km (West) from the Vedanthangal Bird Sanctuary. The facility was functional before the declaration of Vedanthangal Bird Sanctuary in 1998. The facility has no significant direct or indirect impact on the environment. Additionally, the Consent to Operate by the relevant Pollution Control Board has also been obtained. It is a Zero Liquid Discharge (ZLD) site, equipped with an effluent treatment facility to further direct the treated wastewater for in-house uses.  \n",
        "\n",
        "*Revised figure for past year."
      ]
    },
    {
      "cell_type": "code",
      "execution_count": null,
      "metadata": {
        "id": "uS_839GJz9S5"
      },
      "outputs": [],
      "source": []
    }
  ],
  "metadata": {
    "colab": {
      "provenance": [],
      "include_colab_link": true
    },
    "kernelspec": {
      "display_name": "Python 3",
      "name": "python3"
    },
    "language_info": {
      "name": "python"
    }
  },
  "nbformat": 4,
  "nbformat_minor": 0
}