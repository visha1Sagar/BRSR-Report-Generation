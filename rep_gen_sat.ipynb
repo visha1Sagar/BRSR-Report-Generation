{
  "nbformat": 4,
  "nbformat_minor": 0,
  "metadata": {
    "colab": {
      "provenance": [],
      "include_colab_link": true
    },
    "kernelspec": {
      "name": "python3",
      "display_name": "Python 3"
    },
    "language_info": {
      "name": "python"
    }
  },
  "cells": [
    {
      "cell_type": "markdown",
      "metadata": {
        "id": "view-in-github",
        "colab_type": "text"
      },
      "source": [
        "<a href=\"https://colab.research.google.com/github/visha1Sagar/BRSR-Report-Generation/blob/main/rep_gen_sat.ipynb\" target=\"_parent\"><img src=\"https://colab.research.google.com/assets/colab-badge.svg\" alt=\"Open In Colab\"/></a>"
      ]
    },
    {
      "cell_type": "code",
      "execution_count": 3,
      "metadata": {
        "collapsed": true,
        "id": "6h3jhPiO0ACx"
      },
      "outputs": [],
      "source": [
        "!pip install --quiet --upgrade langchain langchain-community langchain-chroma gradio langchain-openai pypdf langchain-experimental"
      ]
    },
    {
      "cell_type": "code",
      "source": [
        "import os\n",
        "import json\n",
        "from openai import AzureOpenAI\n",
        "from langchain_openai import AzureChatOpenAI"
      ],
      "metadata": {
        "id": "mTCi19x0cCYz"
      },
      "execution_count": 4,
      "outputs": []
    },
    {
      "cell_type": "code",
      "source": [
        "from google.colab import userdata\n"
      ],
      "metadata": {
        "id": "jkhk2mfE_y7m"
      },
      "execution_count": 5,
      "outputs": []
    },
    {
      "cell_type": "code",
      "source": [
        "AZURE_OPENAI_API_KEY = userdata.get('AZURE_OPENAI_API_KEY')\n",
        "api_version = userdata.get('api_version')\n",
        "AZURE_ENDPOINT = userdata.get('AZURE_ENDPOINT')"
      ],
      "metadata": {
        "id": "6Vx5rbcDcHDz"
      },
      "execution_count": 6,
      "outputs": []
    },
    {
      "cell_type": "code",
      "source": [],
      "metadata": {
        "id": "01U10edkcCTR"
      },
      "execution_count": 6,
      "outputs": []
    },
    {
      "cell_type": "code",
      "source": [
        "from langchain_core.prompts import PromptTemplate\n"
      ],
      "metadata": {
        "id": "3mXw754KuJx9"
      },
      "execution_count": 7,
      "outputs": []
    },
    {
      "cell_type": "code",
      "source": [
        "!pip install --quiet pdfplumber"
      ],
      "metadata": {
        "id": "IvOOGAsy6Mp0"
      },
      "execution_count": 8,
      "outputs": []
    },
    {
      "cell_type": "code",
      "source": [
        "import pdfplumber\n",
        "import re\n",
        "import pandas as pd\n",
        "\n",
        "def split_principle_with_tables(pdf_path):\n",
        "    principles = {\n",
        "        1: \"Principle 1:\",\n",
        "        2: \"Principle 2:\",\n",
        "        3: \"Principle 3:\",\n",
        "        4: \"Principle 4:\",\n",
        "        5: \"Principle 5:\",\n",
        "        6: \"Principle 6:\",\n",
        "        7: \"Principle 7:\",\n",
        "        8: \"Principle 8:\",\n",
        "        9: \"Principle 9:\"\n",
        "    }\n",
        "\n",
        "    principle_chunks = {key: {\"text\": \"\", \"tables\": []} for key in principles.keys()}\n",
        "    all_text = \"\"\n",
        "    all_tables = []\n",
        "\n",
        "    # Combine text and tables for global processing\n",
        "    with pdfplumber.open(pdf_path) as pdf:\n",
        "        for page_number, page in enumerate(pdf.pages):\n",
        "            text = page.extract_text()\n",
        "            tables = page.extract_tables()\n",
        "\n",
        "            all_text += text + \"\\n\"\n",
        "            all_tables.append((page_number, tables))\n",
        "\n",
        "    # Find headings and their positions (case-insensitive)\n",
        "    headings = []\n",
        "    for i, principle in principles.items():\n",
        "        for match in re.finditer(fr\"(?i){principle}\", all_text):  # (?i) makes the regex case-insensitive\n",
        "            headings.append((match.start(), i))  # Position and principle number\n",
        "\n",
        "    # Sort headings by position\n",
        "    headings = sorted(headings, key=lambda x: x[0])\n",
        "\n",
        "    # Extract content between headings\n",
        "    for idx, (start_pos, principle_num) in enumerate(headings):\n",
        "        end_pos = headings[idx + 1][0] if idx + 1 < len(headings) else len(all_text)\n",
        "        principle_chunks[principle_num][\"text\"] = all_text[start_pos:end_pos].strip()\n",
        "\n",
        "        # Process tables within the page range\n",
        "        start_page = start_pos // len(all_text) * len(all_tables)  # Estimate start page\n",
        "        end_page = end_pos // len(all_text) * len(all_tables)      # Estimate end page\n",
        "        principle_tables = []\n",
        "\n",
        "        for page_number in range(int(start_page), int(end_page) + 1):\n",
        "            if page_number < len(all_tables):\n",
        "                page_tables = all_tables[page_number][1]\n",
        "                principle_tables.extend(page_tables)\n",
        "\n",
        "        principle_chunks[principle_num][\"tables\"] = principle_tables\n",
        "\n",
        "    # Convert tables into Pandas DataFrames (optional)\n",
        "    for principle, content in principle_chunks.items():\n",
        "        content[\"tables\"] = [\n",
        "            pd.DataFrame(table) for table in content[\"tables\"] if table\n",
        "        ]\n",
        "\n",
        "    return principle_chunks\n"
      ],
      "metadata": {
        "id": "vI-uQY4w4ivK"
      },
      "execution_count": 9,
      "outputs": []
    },
    {
      "cell_type": "code",
      "source": [
        "ct = split_principle_with_tables(\"/content/SPIL-AR2022-23-Business-Responsibility-and-Sustainability-Report.pdf\")"
      ],
      "metadata": {
        "id": "yQW0cHXRaIj1"
      },
      "execution_count": 2,
      "outputs": []
    },
    {
      "cell_type": "code",
      "source": [
        "import os\n",
        "from langchain.llms import OpenAI\n",
        "from langchain.prompts import PromptTemplate\n",
        "import pdfplumber\n",
        "import pandas as pd"
      ],
      "metadata": {
        "id": "BMNCpkZ56HU9"
      },
      "execution_count": 7,
      "outputs": []
    },
    {
      "cell_type": "code",
      "source": [
        "\n",
        "\n",
        "# # Set up your Azure OpenAI API details\n",
        "# os.environ[\"OPENAI_API_KEY\"] = \"YOUR_AZURE_OPENAI_API_KEY\"\n",
        "# api_base = \"https://YOUR_RESOURCE_NAME.openai.azure.com/\"\n",
        "# api_version = \"2023-03-15-preview\"\n",
        "# model_name = \"gpt-4\"  # Replace with your deployed GPT-4 model name\n",
        "\n",
        "llm = AzureChatOpenAI(\n",
        "    api_key=AZURE_OPENAI_API_KEY  ,\n",
        "    api_version=api_version,\n",
        "    azure_endpoint = AZURE_ENDPOINT\n",
        "    )\n"
      ],
      "metadata": {
        "id": "3abi4W-956--"
      },
      "execution_count": 8,
      "outputs": []
    },
    {
      "cell_type": "code",
      "source": [
        "df = pd.read_excel(\"ghg_data08.xlsx\")"
      ],
      "metadata": {
        "id": "DRx4sgBzen6W"
      },
      "execution_count": null,
      "outputs": []
    },
    {
      "cell_type": "code",
      "source": [],
      "metadata": {
        "id": "AynEECdegNdO"
      },
      "execution_count": null,
      "outputs": []
    },
    {
      "cell_type": "code",
      "source": [
        "from langchain.agents import AgentType\n",
        "from langchain_experimental.agents import create_pandas_dataframe_agent\n",
        "\n",
        "\n",
        "pandas_df_agent = create_pandas_dataframe_agent(\n",
        "    llm,\n",
        "    df,\n",
        "    verbose=True,\n",
        "    agent_type=AgentType.OPENAI_FUNCTIONS,\n",
        "    allow_dangerous_code=True,\n",
        "    handle_parsing_errors=True,\n",
        ")\n"
      ],
      "metadata": {
        "colab": {
          "base_uri": "https://localhost:8080/"
        },
        "id": "YbjJjDMOeXoh",
        "outputId": "843a7025-d33f-44f6-f5b6-cbe3d112c14a"
      },
      "execution_count": null,
      "outputs": [
        {
          "output_type": "stream",
          "name": "stderr",
          "text": [
            "/usr/local/lib/python3.10/dist-packages/langchain_experimental/agents/agent_toolkits/pandas/base.py:283: UserWarning: Received additional kwargs {'handle_parsing_errors': True} which are no longer supported.\n",
            "  warnings.warn(\n"
          ]
        }
      ]
    },
    {
      "cell_type": "code",
      "source": [
        "\n",
        "response = pandas_df_agent.run(\"Total electricity consumption (A)\")\n",
        "\n"
      ],
      "metadata": {
        "colab": {
          "base_uri": "https://localhost:8080/"
        },
        "id": "KuxwHpA9gnYY",
        "outputId": "32e8e619-c406-46fa-8b1c-15a3a3e5a934"
      },
      "execution_count": null,
      "outputs": [
        {
          "output_type": "stream",
          "name": "stdout",
          "text": [
            "\n",
            "\n",
            "\u001b[1m> Entering new AgentExecutor chain...\u001b[0m\n",
            "\u001b[32;1m\u001b[1;3m\n",
            "Invoking: `python_repl_ast` with `{'query': \"total_electricity_consumption = df[(df['Category'] == 'Electricity purchase')]['Total_Value'].sum()\"}`\n",
            "\n",
            "\n",
            "\u001b[0m\u001b[36;1m\u001b[1;3m\u001b[0m\u001b[32;1m\u001b[1;3m\n",
            "Invoking: `python_repl_ast` with `{'query': \"total_electricity_consumption = df[(df['Category'] == 'Electricity purchase')]['Total_Value'].sum() \\ntotal_electricity_consumption\"}`\n",
            "\n",
            "\n",
            "\u001b[0m\u001b[36;1m\u001b[1;3m5436207.0\u001b[0m\u001b[32;1m\u001b[1;3mThe total electricity consumption (A) is 5,436,207 kWh.\u001b[0m\n",
            "\n",
            "\u001b[1m> Finished chain.\u001b[0m\n"
          ]
        }
      ]
    },
    {
      "cell_type": "markdown",
      "source": [
        "## Spliting the tea"
      ],
      "metadata": {
        "id": "n-yZzfqeaHKi"
      }
    },
    {
      "cell_type": "code",
      "source": [],
      "metadata": {
        "id": "MPEFdG5EaIci"
      },
      "execution_count": null,
      "outputs": []
    },
    {
      "cell_type": "code",
      "source": [],
      "metadata": {
        "id": "bFCE_ZWTaIWv"
      },
      "execution_count": null,
      "outputs": []
    },
    {
      "cell_type": "code",
      "source": [],
      "metadata": {
        "id": "ARUKcIekaITf"
      },
      "execution_count": null,
      "outputs": []
    },
    {
      "cell_type": "markdown",
      "source": [],
      "metadata": {
        "id": "AqQQkKcuaHHg"
      }
    },
    {
      "cell_type": "markdown",
      "source": [],
      "metadata": {
        "id": "XU4e5Jn9aHEP"
      }
    },
    {
      "cell_type": "code",
      "source": [
        "from langchain.prompts import PromptTemplate\n",
        "\n",
        "\n",
        "# Prompts with templates\n",
        "template_data_extraction_prompt = PromptTemplate(\n",
        "    input_variables=[\"pdf_content\"],\n",
        "    template=\"\"\"\n",
        "You are a specialized AI assistant assigned to identify and list specific data points required to complete a section of a Business Responsibility and Sustainability Report (BRSR) template.\n",
        "Based on the following PDF content, focus on identifying only the essential data items necessary for precise and accurate completion of the template.\n",
        "Please avoid making assumptions or including irrelevant data points in your response. List each required data point concisely and unambiguously to ensure clarity.\n",
        "\n",
        "PDF Content:\n",
        "{pdf_content}\n",
        "\"\"\"\n",
        ")\n",
        "\n",
        "csv_data_extraction_prompt = PromptTemplate(\n",
        "    input_variables=[\"csv_content\", \"response\", \"topic\"],\n",
        "    template=\"\"\"\n",
        "As an AI assistant focused on extracting and preparing data from a CSV file, your task is to accurately identify and process specific data fields outlined in the ChatGPT response: {response}.\n",
        "Begin by locating each of these data fields within the CSV content provided, ensuring they are precisely represented and appropriately transformed as needed. Beyond these predefined fields, scan the content for any additional data relevant to the topic: {topic}.\n",
        "Ensure all data is clearly quantified and accurately captured to support BRSR reporting requirements.\n",
        "\n",
        "CSV Content:\n",
        "{csv_content}\n",
        "\"\"\"\n",
        ")\n",
        "\n",
        "report_part_writing_prompt = PromptTemplate(\n",
        "    input_variables=[\"data\", \"topic\"],\n",
        "    template=\"\"\"\n",
        "You are an AI assistant tasked with drafting the section \"{topic}\" of a Business Responsibility and Sustainability Report (BRSR) using the data provided: {data}. Use the attached sample of the \"{topic}\" section as a general guide for structure, formatting, and tone, ensuring that the draft is both comprehensive and aligned with BRSR standards.\n",
        "\n",
        "Guidelines for Drafting the Section:\n",
        "\n",
        "- Adherence to Template Structure: Follow the sequence and structure of the attached sample to maintain alignment with BRSR reporting standards. Include main headings and subheadings as presented in the template but feel free to adapt the content and add context where necessary to fit the new data.\n",
        "- Quantitative Data in Tables: Present all quantitative data in table format to enhance readability and clarity. Where tables are not feasible, ensure that quantitative details are still clear, precise, and easy to locate.\n",
        "- Handling Missing Data: If specific data fields are missing from {data}, label them as \"Not Available\" within the draft to indicate incomplete data transparently.\n",
        "- Structured Flexibility for Completeness: Use the provided template as a structural foundation, but adapt it to ensure all relevant data is logically organized. Feel free to create additional minor headings or sub-sections if it aids in clarity and does not diverge from the BRSR’s standards.\n",
        "- Professional and Clear Presentation: Ensure that the report section is presented professionally, with an emphasis on clarity, data accuracy, and alignment with BRSR conventions.\n",
        "\n",
        "Final Output Expectations: The draft should accurately reflect both the content provided and the intended structure, maintaining all essential headings and a professional tone while integrating the data in a clear, organized, and reader-friendly manner.\n",
        "\"\"\"\n",
        ")\n",
        "\n",
        "paraphrase_text_part = PromptTemplate(\n",
        "    input_variables=[\"text\", \"message\", \"report\"],\n",
        "    template=\"\"\"\n",
        "You are an AI assistant assigned to paraphrase part of reports, given context : {report},\n",
        "1. Find {text} in it and\n",
        "2. Paraphrase it given user's message : {message}\n",
        "\n",
        "The final output should be paraphrased text based on given user's message .\n",
        "\"\"\"\n",
        ")"
      ],
      "metadata": {
        "id": "j5iSph4oZrNo"
      },
      "execution_count": 9,
      "outputs": []
    },
    {
      "cell_type": "code",
      "source": [
        "# principle_sections = [\n",
        "#     \"Principle 1: Businesses should conduct and govern themselves with integrity, and in a manner that is ethical, transparent, and accountable.\",\n",
        "#     \"Principle 2: Businesses should provide goods and services in a manner that is sustainable and safe.\",\n",
        "#     \"Principle 3: Businesses should respect and promote the well-being of all employees, including those in their value chains.\",\n",
        "#     \"Principle 4: Businesses should respect the interests of and be responsive to all their stakeholders.\",\n",
        "#     \"Principle 5: Businesses should respect and promote human rights.\",\n",
        "#     \"Principle 6: Businesses should respect and make efforts to protect and restore the environment.\",\n",
        "#     \"Principle 7: Businesses, when engaging in influencing public and regulatory policy, should do so in a manner that is responsible and transparent.\",\n",
        "#     \"Principle 8: Businesses should promote inclusive growth and equitable development.\",\n",
        "#     \"Principle 9: Businesses should engage with and provide value to their consumers in a responsible manner.\"\n",
        "# ]"
      ],
      "metadata": {
        "id": "XAy808ErqNCA"
      },
      "execution_count": 21,
      "outputs": []
    },
    {
      "cell_type": "code",
      "source": [
        "principle_sections = [\n",
        "    \"Principle 1:\",\n",
        "    \"Principle 2:\",\n",
        "    \"Principle 3:\",\n",
        "    \"Principle 4:\",\n",
        "    \"Principle 5:\",\n",
        "    \"Principle 6:\",\n",
        "    \"Principle 7:\",\n",
        "    \"Principle 8:\",\n",
        "    \"Principle 9:\"\n",
        "]"
      ],
      "metadata": {
        "id": "S5wODAcf0Nau"
      },
      "execution_count": 24,
      "outputs": []
    },
    {
      "cell_type": "code",
      "source": [
        "\n",
        "\n",
        "import pdfplumber\n",
        "import re\n",
        "\n",
        "def split_by_principle_strict(pdf_path):\n",
        "    principles = dict()\n",
        "\n",
        "    for index,value in enumerate(principle_sections):\n",
        "      principles[index+1] = value\n",
        "\n",
        "    principle_chunks = {key: \"\" for key in principles.keys()}\n",
        "    all_text = \"\"\n",
        "\n",
        "    # Combine text from all pages for global processing\n",
        "    with pdfplumber.open(pdf_path) as pdf:\n",
        "        for page in pdf.pages:\n",
        "            all_text += page.extract_text() + \"\\n\"\n",
        "\n",
        "    # Find headings and their positions\n",
        "    headings = []\n",
        "    for i, principle in principles.items():\n",
        "        for match in re.finditer(fr\"(?i){principle}\", all_text):  # (?i) makes the regex case-insensitive\n",
        "            headings.append((match.start(), i))\n",
        "\n",
        "    # Sort headings by position\n",
        "    headings = sorted(headings, key=lambda x: x[0])\n",
        "\n",
        "    # Extract content between headings\n",
        "    for idx, (start_pos, principle_num) in enumerate(headings):\n",
        "        end_pos = headings[idx + 1][0] if idx + 1 < len(headings) else len(all_text)\n",
        "        principle_chunks[principle_num] = all_text[start_pos:end_pos].strip()\n",
        "\n",
        "    return principle_chunks\n",
        "\n",
        "\n",
        "def extract_text_from_csv(file_path):\n",
        "    filetype = file_path.split(\".\")[-1]\n",
        "\n",
        "    if filetype == \"xlsx\":\n",
        "        df = pd.ExcelFile(file_path)\n",
        "        df_string = \"\"\n",
        "        for sheet_name in df.sheet_names:\n",
        "            df_string += df.parse(sheet_name).to_string(index=False)\n",
        "        return df_string\n",
        "    elif filetype == \"csv\":\n",
        "        df = pd.read_csv(file_path)\n",
        "    else:\n",
        "        return \"Couldn't read Spreadsheet - Error - filename :\"+file_path\n",
        "    return df.to_string(index=False)  # Convert to string for prompt input\n",
        "\n",
        "# Function to call Azure OpenAI with each prompt type\n",
        "def run_template_data_extraction(file_path):\n",
        "    try:\n",
        "        pdf_content = extract_text_from_pdf(file_path)\n",
        "        prompt = template_data_extraction_prompt.format(pdf_content=pdf_content)\n",
        "        response = llm.invoke(prompt)\n",
        "        return response.content\n",
        "    except Exception as e:\n",
        "        return f\"Error: {e}\"\n",
        "\n",
        "def run_csv_data_extraction(file_path, response_text, topic):\n",
        "    try:\n",
        "        csv_content = extract_text_from_csv(file_path)\n",
        "        prompt = csv_data_extraction_prompt.format(csv_content=csv_content, response=response_text, topic=topic)\n",
        "        response = llm.invoke(prompt)\n",
        "\n",
        "        return response.content\n",
        "    except Exception as e:\n",
        "        return f\"Error: {e}\"\n",
        "\n",
        "def run_report_part_writing(data, topic):\n",
        "    prompt = report_part_writing_prompt.format(data=data, topic=topic)\n",
        "    try:\n",
        "        response = llm.invoke(prompt)\n",
        "        return response.content\n",
        "    except Exception as e:\n",
        "        return f\"Error: {e}\"\n",
        "\n",
        "\n",
        "\n"
      ],
      "metadata": {
        "id": "07_LrmY75mim"
      },
      "execution_count": 27,
      "outputs": []
    },
    {
      "cell_type": "code",
      "source": [
        "# Example usage\n",
        "template_data_response = run_template_data_extraction(\"brsr.pdf\")\n"
      ],
      "metadata": {
        "id": "mgMdk2Jy5orX"
      },
      "execution_count": null,
      "outputs": []
    },
    {
      "cell_type": "code",
      "source": [
        "print(template_data_response)"
      ],
      "metadata": {
        "id": "WMU3Az8U-AtE",
        "colab": {
          "base_uri": "https://localhost:8080/"
        },
        "collapsed": true,
        "outputId": "ddf809d4-897b-4d10-9429-15eee987cd6b"
      },
      "execution_count": null,
      "outputs": [
        {
          "output_type": "stream",
          "name": "stdout",
          "text": [
            "### Essential Data Points for BRSR Completion\n",
            "\n",
            "1. **Total Energy Consumption**:\n",
            "   - Total electricity consumption (FY 2022-23, FY 2021-22)\n",
            "   - Total fuel consumption (FY 2022-23, FY 2021-22)\n",
            "   - Energy consumption through other sources (Steam) (FY 2022-23, FY 2021-22)\n",
            "   - Total energy consumption (A+B+C) (FY 2022-23, FY 2021-22)\n",
            "   - Energy intensity per rupee of turnover (Total energy consumption/ turnover in Million)\n",
            "\n",
            "2. **Designated Consumers**:\n",
            "   - Whether the entity has designated consumers under the PAT Scheme (Y/N)\n",
            "   - Targets achieved under the PAT scheme (Yes/No)\n",
            "   - Remedial actions taken if targets were not achieved.\n",
            "\n",
            "3. **Water Withdrawal Details**:\n",
            "   - Water withdrawal by source (in kilolitres) (Surface water, Groundwater, Third party water, Seawater/Desalinated Water, Others) (FY 2022-23, FY 2021-22)\n",
            "   - Total volume of water withdrawal (in kilolitres) (i + ii + iii + iv + v) (FY 2022-23, FY 2021-22)\n",
            "   - Total volume of water consumption (in kilolitres) (FY 2022-23, FY 2021-22)\n",
            "   - Water intensity per rupee of turnover (Water consumed / turnover in Million)\n",
            "\n",
            "4. **Zero Liquid Discharge Mechanism**:\n",
            "   - Coverage and implementation details of Zero Liquid Discharge.\n",
            "\n",
            "5. **Air Emissions Details**:\n",
            "   - Air emissions data (NOx, SOx, Particulate matter, Persistent organic pollutants, Volatile organic compounds, Hazardous air pollutants, Others) (FY 2022-23, FY 2021-22)\n",
            "\n",
            "6. **Greenhouse Gas Emissions**:\n",
            "   - Total Scope 1 emissions (Break-up into CO2, CH4, N2O, HFCs, PFCs, SF6, NF3) (FY 2022-23, FY 2021-22)\n",
            "   - Total Scope 2 emissions (Break-up into CO2, CH4, N2O, HFCs, PFCs, SF6, NF3) (FY 2022-23, FY 2021-22)\n",
            "   - Total Scope 1 and Scope 2 emissions per rupee of turnover (FY 2022-23, FY 2021-22)\n",
            "\n",
            "7. **Projects to Reduce GHG Emissions**:\n",
            "   - Details of projects aimed at reducing Greenhouse Gas emissions.\n",
            "\n",
            "8. **Waste Management Details**:\n",
            "   - Total waste generated (in metric tonnes) (FY 2022-23, FY 2021-22)\n",
            "   - Details of specific waste categories (Plastic, E-waste, Bio-medical waste, etc.)\n",
            "   - Total waste recovered through recycling or other recovery operations (in metric tonnes)\n",
            "\n",
            "9. **Waste Management Practices**:\n",
            "   - Description of waste management practices and strategies to reduce hazardous and toxic chemicals.\n",
            "\n",
            "10. **Ecologically Sensitive Areas**:\n",
            "    - Details of operations in ecologically sensitive areas, including compliance with environmental approvals/clearances.\n",
            "\n",
            "11. **Environmental Impact Assessments**:\n",
            "    - Status of Environmental Impact Assessments undertaken in the current financial year.\n",
            "\n",
            "12. **Compliance with Environmental Laws**:\n",
            "    - Compliance status with applicable environmental laws/regulations/guidelines in India (Y/N)\n",
            "    - Details of any non-compliance.\n",
            "\n",
            "13. **Break-up of Total Energy Consumption**:\n",
            "    - Total energy consumed from renewable sources (A+B+C) (FY 2022-23, FY 2021-22)\n",
            "    - Percentage of total energy from renewable sources\n",
            "    - Total energy consumed from non-renewable sources (D+E+F) (FY 2022-23, FY 2021-22)\n",
            "\n",
            "14. **Water Discharge Details**:\n",
            "    - Water discharge by destination and level of treatment (in kilolitres) (Surface water, Groundwater, Seawater, Third parties, Others) (FY 2022-23, FY 2021-22)\n",
            "\n",
            "15. **Water Stress Areas**:\n",
            "    - Details of water withdrawal, consumption, and discharge in areas of water stress.\n",
            "\n",
            "16. **Biodiversity Impact**:\n",
            "    - Details of significant direct & indirect impact on biodiversity in ecologically sensitive areas and remediation activities.\n",
            "\n",
            "17. **Resource Efficiency Initiatives**:\n",
            "    - Specific initiatives or technologies used to improve resource efficiency and outcomes.\n",
            "\n",
            "18. **Business Continuity and Disaster Management**:\n",
            "    - Details of the business continuity and disaster management plan.\n",
            "\n",
            "19. **Environmental Impact from Value Chain**:\n",
            "    - Significant adverse impacts to the environment from the value chain and mitigation measures taken.\n",
            "\n",
            "20. **Assessment of Value Chain Partners**:\n",
            "    - Percentage of value chain partners assessed for environmental impacts (by value of business).\n"
          ]
        }
      ]
    },
    {
      "cell_type": "code",
      "source": [
        "csv_data_extraction_response = run_csv_data_extraction(\"ghg_data08.xlsx\",template_data_response , \"Principle 6 of Section C\")\n"
      ],
      "metadata": {
        "id": "uIsg0-s07Bhu"
      },
      "execution_count": null,
      "outputs": []
    },
    {
      "cell_type": "code",
      "source": [
        "report_response = run_report_part_writing(csv_data_extraction_response, \"Principle 6 of Section C\")"
      ],
      "metadata": {
        "id": "nn0hbRNl-T-p"
      },
      "execution_count": null,
      "outputs": []
    },
    {
      "cell_type": "code",
      "source": [
        "print(report_response)"
      ],
      "metadata": {
        "colab": {
          "base_uri": "https://localhost:8080/"
        },
        "id": "tIN48_a2_bUg",
        "outputId": "a836ef3c-5b67-475b-f932-5f5bd28d95d3",
        "collapsed": true
      },
      "execution_count": null,
      "outputs": [
        {
          "output_type": "stream",
          "name": "stdout",
          "text": [
            "# Principle 6: Environmental Management\n",
            "\n",
            "This section outlines our commitment to environmental sustainability, detailing our energy consumption, water usage, air emissions, greenhouse gas emissions, and waste management practices. We strive to minimize our environmental footprint through responsible resource management and compliance with applicable regulations.\n",
            "\n",
            "## 1. Total Energy Consumption\n",
            "\n",
            "| Category                              | FY 2022-23 (kWh) | FY 2021-22 (kWh) |\n",
            "|---------------------------------------|------------------|------------------|\n",
            "| Total Electricity Consumption          | 1,275,247        | 1,246,798        |\n",
            "| Total Fuel Consumption (Natural Gas)  | 790,508          | 782,260          |\n",
            "| **Total Energy Consumption (A + B)**  | **2,065,755**    | **2,029,058**    |\n",
            "\n",
            "- **Energy Intensity per Rupee of Turnover:** Not Available\n",
            "\n",
            "## 2. Designated Consumers\n",
            "\n",
            "- **Whether the entity has designated consumers under the PAT Scheme:** Yes\n",
            "- **Targets achieved under the PAT scheme:** Yes\n",
            "- **Remedial actions taken if targets were not achieved:** Not Provided\n",
            "\n",
            "## 3. Water Withdrawal Details\n",
            "\n",
            "| Source                          | FY 2022-23 (kilolitres) | FY 2021-22 (kilolitres) |\n",
            "|---------------------------------|-------------------------|-------------------------|\n",
            "| Surface Water                   | 100,000                 | 95,000                  |\n",
            "| Groundwater                     | 75,000                  | 70,000                  |\n",
            "| Third-party Water               | 15,000                  | 14,000                  |\n",
            "| Seawater/Desalinated Water      | 20,000                  | 18,000                  |\n",
            "| Others                          | 5,000                   | 4,500                   |\n",
            "| **Total Volume of Water Withdrawal** | **210,000**         | **202,500**            |\n",
            "\n",
            "- **Total Volume of Water Consumption:** Not Available\n",
            "- **Water Intensity per Rupee of Turnover:** Not Available\n",
            "\n",
            "## 4. Zero Liquid Discharge Mechanism\n",
            "\n",
            "- **Coverage and implementation details of Zero Liquid Discharge:** Not Provided\n",
            "\n",
            "## 5. Air Emissions Details\n",
            "\n",
            "| Emission Type                                | FY 2022-23 (kg) |\n",
            "|----------------------------------------------|-----------------|\n",
            "| NOx                                          | 12,000          |\n",
            "| SOx                                          | 8,000           |\n",
            "| Particulate Matter                           | 1,500           |\n",
            "| Persistent Organic Pollutants                | 100             |\n",
            "| Volatile Organic Compounds                   | 2,000           |\n",
            "| Hazardous Air Pollutants                     | 500             |\n",
            "| Others                                       | 50              |\n",
            "\n",
            "## 6. Greenhouse Gas Emissions\n",
            "\n",
            "- **Total Scope 1 Emissions:**\n",
            "  - CO2 from Green Gas: 697 GJ\n",
            "  - CO2 from Natural Gas: 263,057 kWh\n",
            "\n",
            "- **Total Scope 2 Emissions:**\n",
            "  - CO2 from Electricity Purchase: 429,395 kWh\n",
            "\n",
            "- **Total Scope 1 and 2 emissions per rupee of turnover:** Not Available\n",
            "\n",
            "## 7. Projects to Reduce GHG Emissions\n",
            "\n",
            "- **Details of projects aimed at reducing Greenhouse Gas emissions:** Not Provided\n",
            "\n",
            "## 8. Waste Management Details\n",
            "\n",
            "| Waste Type              | FY 2022-23 (metric tonnes) | FY 2021-22 (metric tonnes) |\n",
            "|------------------------|----------------------------|----------------------------|\n",
            "| Plastic Waste          | 200.0                      | 180.0                      |\n",
            "| E-Waste                | 50.0                       | 45.0                       |\n",
            "| Bio-medical Waste      | 30.0                       | 25.0                       |\n",
            "| **Total Waste Generated** | **280.0**               | **250.0**                 |\n",
            "\n",
            "- **Total Waste Recovered through Recycling or Other Recovery Operations:** Not Provided\n",
            "\n",
            "## 9. Waste Management Practices\n",
            "\n",
            "- **Description of waste management practices and strategies to reduce hazardous and toxic chemicals:** Not Provided\n",
            "\n",
            "## 10. Compliance with Environmental Laws\n",
            "\n",
            "- **Compliance Status with Applicable Environmental Laws/Regulations/Guidelines in India:** Yes (Compliant)\n",
            "- **Details of Non-compliance:** None noted\n",
            "\n",
            "## Summary\n",
            "\n",
            "The data presented indicates our ongoing commitment to environmental management and sustainability, with a focus on energy efficiency, water conservation, and waste management. However, several data points remain unfilled due to lack of information. We recognize the importance of completing these sections and will strive to gather the necessary data for future reports.\n"
          ]
        }
      ]
    },
    {
      "cell_type": "code",
      "source": [],
      "metadata": {
        "id": "1ja5czGqDuwA"
      },
      "execution_count": null,
      "outputs": []
    },
    {
      "cell_type": "markdown",
      "source": [
        "# Principle 6: Environmental Management\n",
        "\n",
        "This section outlines our commitment to environmental sustainability, detailing our energy consumption, water usage, air emissions, greenhouse gas emissions, and waste management practices. We strive to minimize our environmental footprint through responsible resource management and compliance with applicable regulations.\n",
        "\n",
        "## 1. Total Energy Consumption\n",
        "\n",
        "| Category                              | FY 2022-23 (kWh) | FY 2021-22 (kWh) |\n",
        "|---------------------------------------|------------------|------------------|\n",
        "| Total Electricity Consumption          | 1,275,247        | 1,246,798        |\n",
        "| Total Fuel Consumption (Natural Gas)  | 790,508          | 782,260          |\n",
        "| **Total Energy Consumption (A + B)**  | **2,065,755**    | **2,029,058**    |\n",
        "\n",
        "- **Energy Intensity per Rupee of Turnover:** Not Available\n",
        "\n",
        "## 2. Designated Consumers\n",
        "\n",
        "- **Whether the entity has designated consumers under the PAT Scheme:** Yes\n",
        "- **Targets achieved under the PAT scheme:** Yes\n",
        "- **Remedial actions taken if targets were not achieved:** Not Provided\n",
        "\n",
        "## 3. Water Withdrawal Details\n",
        "\n",
        "| Source                          | FY 2022-23 (kilolitres) | FY 2021-22 (kilolitres) |\n",
        "|---------------------------------|-------------------------|-------------------------|\n",
        "| Surface Water                   | 100,000                 | 95,000                  |\n",
        "| Groundwater                     | 75,000                  | 70,000                  |\n",
        "| Third-party Water               | 15,000                  | 14,000                  |\n",
        "| Seawater/Desalinated Water      | 20,000                  | 18,000                  |\n",
        "| Others                          | 5,000                   | 4,500                   |\n",
        "| **Total Volume of Water Withdrawal** | **210,000**         | **202,500**            |\n",
        "\n",
        "- **Total Volume of Water Consumption:** Not Available\n",
        "- **Water Intensity per Rupee of Turnover:** Not Available\n",
        "\n",
        "## 4. Zero Liquid Discharge Mechanism\n",
        "\n",
        "- **Coverage and implementation details of Zero Liquid Discharge:** Not Provided\n",
        "\n",
        "## 5. Air Emissions Details\n",
        "\n",
        "| Emission Type                                | FY 2022-23 (kg) |\n",
        "|----------------------------------------------|-----------------|\n",
        "| NOx                                          | 12,000          |\n",
        "| SOx                                          | 8,000           |\n",
        "| Particulate Matter                           | 1,500           |\n",
        "| Persistent Organic Pollutants                | 100             |\n",
        "| Volatile Organic Compounds                   | 2,000           |\n",
        "| Hazardous Air Pollutants                     | 500             |\n",
        "| Others                                       | 50              |\n",
        "\n",
        "## 6. Greenhouse Gas Emissions\n",
        "\n",
        "- **Total Scope 1 Emissions:**\n",
        "  - CO2 from Green Gas: 697 GJ\n",
        "  - CO2 from Natural Gas: 263,057 kWh\n",
        "\n",
        "- **Total Scope 2 Emissions:**\n",
        "  - CO2 from Electricity Purchase: 429,395 kWh\n",
        "\n",
        "- **Total Scope 1 and 2 emissions per rupee of turnover:** Not Available\n",
        "\n",
        "## 7. Projects to Reduce GHG Emissions\n",
        "\n",
        "- **Details of projects aimed at reducing Greenhouse Gas emissions:** Not Provided\n",
        "\n",
        "## 8. Waste Management Details\n",
        "\n",
        "| Waste Type              | FY 2022-23 (metric tonnes) | FY 2021-22 (metric tonnes) |\n",
        "|------------------------|----------------------------|----------------------------|\n",
        "| Plastic Waste          | 200.0                      | 180.0                      |\n",
        "| E-Waste                | 50.0                       | 45.0                       |\n",
        "| Bio-medical Waste      | 30.0                       | 25.0                       |\n",
        "| **Total Waste Generated** | **280.0**               | **250.0**                 |\n",
        "\n",
        "- **Total Waste Recovered through Recycling or Other Recovery Operations:** Not Provided\n",
        "\n",
        "## 9. Waste Management Practices\n",
        "\n",
        "- **Description of waste management practices and strategies to reduce hazardous and toxic chemicals:** Not Provided\n",
        "\n",
        "## 10. Compliance with Environmental Laws\n",
        "\n",
        "- **Compliance Status with Applicable Environmental Laws/Regulations/Guidelines in India:** Yes (Compliant)\n",
        "- **Details of Non-compliance:** None noted"
      ],
      "metadata": {
        "id": "KPbthuhxz82N"
      }
    },
    {
      "cell_type": "code",
      "source": [],
      "metadata": {
        "id": "uS_839GJz9S5"
      },
      "execution_count": null,
      "outputs": []
    }
  ]
}